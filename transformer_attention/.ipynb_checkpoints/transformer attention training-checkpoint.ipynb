{
 "cells": [
  {
   "cell_type": "code",
   "execution_count": 1,
   "metadata": {},
   "outputs": [],
   "source": [
    "import copy\n",
    "import numpy as np\n",
    "import time\n",
    "import torch\n",
    "import torch.nn as nn\n",
    "\n",
    "import matplotlib.pyplot as plt\n",
    "%matplotlib inline\n",
    "\n",
    "from torch.autograd import Variable\n",
    "from transformer_attention import *"
   ]
  },
  {
   "cell_type": "markdown",
   "metadata": {},
   "source": [
    "Trains a model that uses the Transformer Attention mechanism as described in [\"Attention is All You Need\" (Vaswani, et al.)](https://arxiv.org/abs/1706.03762)\n",
    "\n",
    "# Initialization and Setup\n",
    "The `TransformerAttention` class is defined in the file `transformer_attention.py`.\n",
    "\n",
    "## Initialize model"
   ]
  },
  {
   "cell_type": "code",
   "execution_count": 2,
   "metadata": {},
   "outputs": [],
   "source": [
    "def make_model(src_vocab, tgt_vocab, N = 6, d_model = 512, d_ff = 2048, h = 8, dropout = 0.1):\n",
    "    c = copy.deepcopy\n",
    "    attn = MultiHeadedAttention(h, d_model)\n",
    "    ff = PositionwiseFeedForward(d_model, d_ff, dropout)\n",
    "    position = PositionalEncoding(d_model, dropout)\n",
    "    model = EncoderDecoder(\n",
    "        Encoder(EncoderLayer(d_model, c(attn), c(ff), dropout), N),\n",
    "        Decoder(DecoderLayer(d_model, c(attn), c(attn), c(ff), dropout), N),\n",
    "        nn.Sequential(Embeddings(d_model, src_vocab), c(position)),\n",
    "        nn.Sequential(Embeddings(d_model, tgt_vocab), c(position)),\n",
    "        Generator(d_model, tgt_vocab)\n",
    "    )\n",
    "    for p in model.parameters():\n",
    "        if p.dim() > 1:\n",
    "            nn.init.xavier_uniform(p)\n",
    "    return model"
   ]
  },
  {
   "cell_type": "markdown",
   "metadata": {},
   "source": [
    "## Training helpers\n",
    "Classes and functions that handle batching of data and running a single training iteration."
   ]
  },
  {
   "cell_type": "code",
   "execution_count": 3,
   "metadata": {},
   "outputs": [],
   "source": [
    "class Batch:\n",
    "    def __init__(self, src, tgt = None, pad = 0):\n",
    "        self.src = src\n",
    "        self.src_mask = (src != pad).unsqueeze(-2)\n",
    "        if tgt is not None:\n",
    "            self.tgt = tgt[:, :-1]\n",
    "            self.tgt_y = tgt[:, 1:]\n",
    "            self.tgt_mask = self.make_std_mask(self.tgt, pad)\n",
    "            self.ntokens = (self.tgt_y != pad).data.sum()\n",
    "            \n",
    "    @staticmethod\n",
    "    def make_std_mask(tgt, pad):\n",
    "        tgt_mask = (tgt != pad).unsqueeze(-2)\n",
    "        tgt_mask = tgt_mask & Variable(\n",
    "            subsequent_mask(tgt.size(-1)).type_as(tgt_mask.data)\n",
    "        )\n",
    "        return tgt_mask"
   ]
  },
  {
   "cell_type": "code",
   "execution_count": 4,
   "metadata": {},
   "outputs": [],
   "source": [
    "global max_src_in_batch, max_tgt_in_batch\n",
    "def batch_size_fn(new, count, sofar):\n",
    "    global max_src_in_batch, max_tgt_in_batch\n",
    "    if count == 1:\n",
    "        max_src_in_batch = 0\n",
    "        max_tgt_in_batch = 0\n",
    "    max_src_in_batch = max(max_src_in_batch, len(new.src))\n",
    "    max_tgt_in_batch = max(max_tgt_in_batch, len(new.tgt)+2)\n",
    "    src_elements = count*max_src_in_batch\n",
    "    tgt_elements = count*max_tgt_in_batch\n",
    "    return max(src_elements, tgt_elements)"
   ]
  },
  {
   "cell_type": "code",
   "execution_count": 5,
   "metadata": {},
   "outputs": [],
   "source": [
    "# Training loop\n",
    "def run_epoch(data_iter, model, loss_compute):\n",
    "    start = time.time()\n",
    "    total_tokens = 0\n",
    "    total_loss = 0\n",
    "    tokens = 0\n",
    "    for i, batch in enumerate(data_iter):\n",
    "        out = model.forward(\n",
    "            batch.src, batch.tgt, batch.src_mask, batch.tgt_mask\n",
    "        )\n",
    "        loss = loss_compute(out, batch.tgt_y, batch.ntokens)\n",
    "        total_loss += loss\n",
    "        total_tokens += batch.ntokens\n",
    "        tokens += batch.ntokens\n",
    "        if i % 50 == 1:\n",
    "            elapsed = time.time() - start\n",
    "            print(\"Epoch step: %d | Loss: %f | Tokens per sec: %f\" %\n",
    "                 (i, loss/batch.ntokens, tokens/elapsed))\n",
    "            start = time.time()\n",
    "            tokens = 0\n",
    "    return total_loss / total_tokens"
   ]
  },
  {
   "cell_type": "markdown",
   "metadata": {},
   "source": [
    "## Optimizer\n",
    "We use the Adam optimizer with $\\beta_1 = 0.9, \\beta_2 = 0.98$, and $\\epsilon = 10^{-9}$. We vary the learning rate over the course of training according to the formula:\n",
    "\n",
    "$$\\text{lr} = d_{\\text{model}}^{-0.5}\\cdot\\min{(\\text{step_num}^{-0.5}, \\text{step_num}\\cdot\\text{warmup_steps}^{-1.5})}$$\n",
    "\n",
    "This corresponds to increasing the learning rate lineary for the first $\\text{warmup_steps}$ training steps, then decreasing it thereafter proportionally to the inverse square root of the step number."
   ]
  },
  {
   "cell_type": "code",
   "execution_count": 6,
   "metadata": {},
   "outputs": [],
   "source": [
    "class NoamOpt:\n",
    "    def __init__(self, model_size, factor, warmup, optimizer):\n",
    "        self.optimizer = optimizer\n",
    "        self._step = 0\n",
    "        self.warmup = warmup\n",
    "        self.factor = factor\n",
    "        self.model_size = model_size\n",
    "        self._rate = 0\n",
    "        \n",
    "    def step(self):\n",
    "        self._step += 1\n",
    "        rate = self.rate()\n",
    "        for p in self.optimizer.param_groups:\n",
    "            p['lr'] = rate\n",
    "        self._rate = rate\n",
    "        self.optimizer.step()\n",
    "        \n",
    "    def rate(self, step = None):\n",
    "        if step is None:\n",
    "            step = self._step\n",
    "        return self.factor * (self.model_size**(-0.5) * min(step**(-0.5), step*self.warmup**(-1.5)))\n",
    "    \n",
    "def get_std_opt(model):\n",
    "    return NoamOpt(\n",
    "        model.src_embed[0].d_model, 2, 4000,\n",
    "        torch.optim.Adam(\n",
    "            model.parameters(), lr = 0, betas = (0.9, 0.98), eps = 1e-9\n",
    "        )\n",
    "    )"
   ]
  },
  {
   "cell_type": "markdown",
   "metadata": {},
   "source": [
    "Some learning rate curves for various model sizes and warmup steps:"
   ]
  },
  {
   "cell_type": "code",
   "execution_count": 7,
   "metadata": {
    "scrolled": true
   },
   "outputs": [
    {
     "data": {
      "text/plain": [
       "<matplotlib.legend.Legend at 0x13bd550f5c0>"
      ]
     },
     "execution_count": 7,
     "metadata": {},
     "output_type": "execute_result"
    },
    {
     "data": {
      "image/png": "[encoded data removed]",
      "text/plain": [
       "<matplotlib.figure.Figure at 0x13bd317f0f0>"
      ]
     },
     "metadata": {},
     "output_type": "display_data"
    }
   ],
   "source": [
    "opts = [\n",
    "    NoamOpt(512, 1, 4000, None),\n",
    "    NoamOpt(512, 1, 8000, None),\n",
    "    NoamOpt(256, 1, 4000, None),\n",
    "]\n",
    "plt.plot(np.arange(1, 20000), [[opt.rate(i) for opt in opts] for i in range(1, 20000)])\n",
    "plt.legend([\"512:4000\", \"512:8000\", \"256:4000\"])"
   ]
  },
  {
   "cell_type": "markdown",
   "metadata": {},
   "source": [
    "## Regularization\n",
    "### Label smoothing\n",
    "During training, we employ label smoothing of value $\\epsilon_{\\text{lr}} = 0.1$. This hurts perplexity as the model learns to be more unsure, but it improves accuracy and BLEU score.\n",
    "\n",
    "We implement label smoothing using the KL divergence loss. Instead of using a one-hot target distribution, we create a distribution that has `confidence` of the correct word and the rest of the `smoothing` mass distributed throughout the vocabulary."
   ]
  },
  {
   "cell_type": "code",
   "execution_count": 8,
   "metadata": {},
   "outputs": [],
   "source": [
    "class LabelSmoothing(nn.Module):\n",
    "    def __init__(self, size, padding_idx, smoothing = 0.0):\n",
    "        super(LabelSmoothing, self).__init__()\n",
    "        self.criterion = nn.KLDivLoss(size_average = False)\n",
    "        self.padding_idx = padding_idx\n",
    "        self.confidence = 1.0 - smoothing\n",
    "        self.smoothing = smoothing\n",
    "        self.size = size\n",
    "        self.true_dist = None\n",
    "        \n",
    "    def forward(self, x, target):\n",
    "        assert x.size(1) == self.size\n",
    "        true_dist = x.data.clone()\n",
    "        true_dist.fill_(self.smoothing / (self.size - 2))\n",
    "        true_dist.scatter_(1, target.data.unsqueeze(1), self.confidence)\n",
    "        true_dist[:, self.padding_idx] = 0\n",
    "        mask = torch.nonzero(target.data == self.padding_idx)\n",
    "        if mask.dim() > 0:\n",
    "            true_dist.index_fill_(0, mask.squeeze(), 0.0)\n",
    "        self.true_dist = true_dist\n",
    "        return self.criterion(x, Variable(true_dist, requires_grad = False))"
   ]
  },
  {
   "cell_type": "markdown",
   "metadata": {},
   "source": [
    "Example of how the probability mass is distributed to the words based on confidence:"
   ]
  },
  {
   "cell_type": "code",
   "execution_count": 9,
   "metadata": {},
   "outputs": [
    {
     "data": {
      "text/plain": [
       "<matplotlib.image.AxesImage at 0x13bd320e780>"
      ]
     },
     "execution_count": 9,
     "metadata": {},
     "output_type": "execute_result"
    },
    {
     "data": {
      "image/png": "[encoded data removed]",
      "text/plain": [
       "<matplotlib.figure.Figure at 0x13bd31e4320>"
      ]
     },
     "metadata": {},
     "output_type": "display_data"
    }
   ],
   "source": [
    "# Example of label smoothing.\n",
    "crit = LabelSmoothing(5, 0, 0.4)\n",
    "predict = torch.FloatTensor([[0, 0.2, 0.7, 0.1, 0],\n",
    "                             [0, 0.2, 0.7, 0.1, 0], \n",
    "                             [0, 0.2, 0.7, 0.1, 0]])\n",
    "v = crit(Variable(predict.log()), \n",
    "         Variable(torch.LongTensor([2, 1, 0])))\n",
    "\n",
    "# Show the target distributions expected by the system.\n",
    "plt.imshow(crit.true_dist)"
   ]
  },
  {
   "cell_type": "markdown",
   "metadata": {},
   "source": [
    "Label smoothing actually starts to penalize the model if it gets very confident about a given choice:"
   ]
  },
  {
   "cell_type": "code",
   "execution_count": 10,
   "metadata": {},
   "outputs": [
    {
     "data": {
      "text/plain": [
       "[<matplotlib.lines.Line2D at 0x13bd32721d0>]"
      ]
     },
     "execution_count": 10,
     "metadata": {},
     "output_type": "execute_result"
    },
    {
     "data": {
      "image/png": "[encoded data removed]",
      "text/plain": [
       "<matplotlib.figure.Figure at 0x13bd31ecb70>"
      ]
     },
     "metadata": {},
     "output_type": "display_data"
    }
   ],
   "source": [
    "crit = LabelSmoothing(5, 0, 0.1)\n",
    "def loss(x):\n",
    "    d = x + 3 * 1\n",
    "    predict = torch.FloatTensor([[\n",
    "        0, x/d, 1/d, 1/d, 1/d\n",
    "    ]])\n",
    "    return crit(\n",
    "        Variable(predict.log()),\n",
    "        Variable(torch.LongTensor([1]))\n",
    "    ).data[0]\n",
    "plt.plot(np.arange(1, 100), [loss(x) for x in range(1, 100)])"
   ]
  },
  {
   "cell_type": "markdown",
   "metadata": {},
   "source": [
    "# A First Example\n",
    "Start by trying out a simple copy task. Given a random set of input symbols from a small vocabulary, the goal is to generate back those same symbols.\n",
    "\n",
    "### Synthetic data\n",
    "Function to generate random data for a copy task."
   ]
  },
  {
   "cell_type": "code",
   "execution_count": 11,
   "metadata": {},
   "outputs": [],
   "source": [
    "def data_gen(V, batch, nbatches):\n",
    "    for i in range(nbatches):\n",
    "        data = torch.from_numpy(np.random.randint(1, V, size = (batch, 10))).type(torch.LongTensor)\n",
    "        data[:, 0] = 1\n",
    "        src = Variable(data, requires_grad = False)\n",
    "        tgt = Variable(data, requires_grad = False)\n",
    "        yield Batch(src, tgt, 0)"
   ]
  },
  {
   "cell_type": "markdown",
   "metadata": {},
   "source": [
    "### Loss computation\n",
    "A simple loss compute and train function."
   ]
  },
  {
   "cell_type": "code",
   "execution_count": 12,
   "metadata": {},
   "outputs": [],
   "source": [
    "class SimpleLossCompute:\n",
    "    def __init__(self, generator, criterion, opt = None):\n",
    "        self.generator = generator\n",
    "        self.criterion = criterion\n",
    "        self.opt = opt\n",
    "        \n",
    "    def __call__(self, x, y, norm):\n",
    "        x = self.generator(x)\n",
    "        loss = self.criterion(\n",
    "            x.contiguous().view(-1, x.size(-1)),\n",
    "            y.contiguous().view(-1)\n",
    "        ) / norm\n",
    "        loss.backward()\n",
    "        if self.opt is not None:\n",
    "            self.opt.step()\n",
    "            self.opt.optimizer.zero_grad()\n",
    "        return loss.data[0] * norm"
   ]
  },
  {
   "cell_type": "markdown",
   "metadata": {},
   "source": [
    "### Greedy decoding\n",
    "Train the simple copy task."
   ]
  },
  {
   "cell_type": "code",
   "execution_count": 13,
   "metadata": {
    "scrolled": false
   },
   "outputs": [
    {
     "name": "stdout",
     "output_type": "stream",
     "text": [
      "Epoch step: 1 | Loss: 3.107259 | Tokens per sec: 340.850632\n",
      "Epoch step: 1 | Loss: 1.901908 | Tokens per sec: 510.234121\n",
      "1.9842022895812987\n",
      "Epoch step: 1 | Loss: 1.953357 | Tokens per sec: 362.753695\n",
      "Epoch step: 1 | Loss: 1.723824 | Tokens per sec: 538.547542\n",
      "1.6954462289810182\n",
      "Epoch step: 1 | Loss: 1.784584 | Tokens per sec: 361.660841\n",
      "Epoch step: 1 | Loss: 1.433409 | Tokens per sec: 558.281392\n",
      "1.4216758012771606\n",
      "Epoch step: 1 | Loss: 1.481804 | Tokens per sec: 370.095565\n",
      "Epoch step: 1 | Loss: 1.157793 | Tokens per sec: 559.130226\n",
      "1.071584939956665\n",
      "Epoch step: 1 | Loss: 1.209499 | Tokens per sec: 382.262649\n",
      "Epoch step: 1 | Loss: 0.979096 | Tokens per sec: 562.078684\n",
      "0.9120646953582764\n",
      "Epoch step: 1 | Loss: 1.229932 | Tokens per sec: 384.052611\n",
      "Epoch step: 1 | Loss: 0.552809 | Tokens per sec: 500.794922\n",
      "0.5966191053390503\n",
      "Epoch step: 1 | Loss: 1.129921 | Tokens per sec: 329.664041\n",
      "Epoch step: 1 | Loss: 0.575215 | Tokens per sec: 519.114162\n",
      "0.6457120180130005\n",
      "Epoch step: 1 | Loss: 0.582595 | Tokens per sec: 366.961022\n",
      "Epoch step: 1 | Loss: 0.249330 | Tokens per sec: 552.290402\n",
      "0.29003462195396423\n",
      "Epoch step: 1 | Loss: 0.774266 | Tokens per sec: 379.460618\n",
      "Epoch step: 1 | Loss: 0.369532 | Tokens per sec: 540.155699\n",
      "0.3181437015533447\n",
      "Epoch step: 1 | Loss: 0.475869 | Tokens per sec: 376.674121\n",
      "Epoch step: 1 | Loss: 0.265938 | Tokens per sec: 456.825916\n",
      "0.23866095542907714\n"
     ]
    }
   ],
   "source": [
    "V = 11\n",
    "criterion = LabelSmoothing(size = V, padding_idx = 0, smoothing = 0.0)\n",
    "model = make_model(V, V, N = 2)\n",
    "model_opt = NoamOpt(\n",
    "    model.src_embed[0].d_model, 1, 400,\n",
    "    torch.optim.Adam(\n",
    "        model.parameters(), lr = 0, betas = (0.9, 0.98), eps = 1e-9\n",
    "    )\n",
    ")\n",
    "\n",
    "# Train loop\n",
    "for epoch in range(10):\n",
    "    model.train()\n",
    "    run_epoch(\n",
    "        data_gen(V, 30, 20), model,\n",
    "        SimpleLossCompute(model.generator, criterion, model_opt)\n",
    "    )\n",
    "    model.eval()\n",
    "    print(run_epoch(\n",
    "        data_gen(V, 30, 5), model,\n",
    "        SimpleLossCompute(model.generator, criterion, None)\n",
    "    ))"
   ]
  },
  {
   "cell_type": "code",
   "execution_count": 14,
   "metadata": {},
   "outputs": [
    {
     "name": "stdout",
     "output_type": "stream",
     "text": [
      "\n",
      "    1     2     3     4     5     6     7     8     9    10\n",
      "[torch.LongTensor of size 1x10]\n",
      "\n"
     ]
    }
   ],
   "source": [
    "def greedy_decode(model, src, src_mask, max_len, start_symbol):\n",
    "    memory = model.encode(src, src_mask)\n",
    "    ys = torch.ones(1, 1).fill_(start_symbol).type_as(src.data)\n",
    "    for i in range(max_len - 1):\n",
    "        out = model.decode(\n",
    "            memory, src_mask, Variable(ys),\n",
    "            Variable(subsequent_mask(ys.size(1)).type_as(src.data))\n",
    "        )\n",
    "        prob = model.generator(out[:, -1])\n",
    "        _, next_word = torch.max(prob, dim = 1)\n",
    "        next_word = next_word.data[0]\n",
    "        ys = torch.cat([\n",
    "            ys, torch.ones(1, 1).type_as(src.data).fill_(next_word)\n",
    "        ], dim = 1)\n",
    "    return ys\n",
    "\n",
    "model.eval()\n",
    "src = Variable(torch.LongTensor([[\n",
    "    1, 2, 3, 4, 5, 6, 7, 8, 9, 10\n",
    "]]))\n",
    "src_mask = Variable(torch.ones(1, 1, 10))\n",
    "print(greedy_decode(model, src, src_mask, max_len = 10, start_symbol = 1))"
   ]
  },
  {
   "cell_type": "code",
   "execution_count": null,
   "metadata": {},
   "outputs": [],
   "source": []
  }
 ],
 "metadata": {
  "kernelspec": {
   "display_name": "Python 3",
   "language": "python",
   "name": "python3"
  },
  "language_info": {
   "codemirror_mode": {
    "name": "ipython",
    "version": 3
   },
   "file_extension": ".py",
   "mimetype": "text/x-python",
   "name": "python",
   "nbconvert_exporter": "python",
   "pygments_lexer": "ipython3",
   "version": "3.6.4"
  }
 },
 "nbformat": 4,
 "nbformat_minor": 2
}
