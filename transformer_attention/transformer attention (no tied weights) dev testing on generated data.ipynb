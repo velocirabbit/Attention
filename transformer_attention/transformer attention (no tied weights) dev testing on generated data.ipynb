{
 "cells": [
  {
   "cell_type": "code",
   "execution_count": 1,
   "metadata": {},
   "outputs": [],
   "source": [
    "import numpy as np\n",
    "import time\n",
    "import torch\n",
    "import torch.nn as nn\n",
    "import torch.optim as optim\n",
    "\n",
    "import matplotlib.pyplot as plt\n",
    "%matplotlib inline\n",
    "\n",
    "from torch.autograd import Variable\n",
    "from transformer_attention import *"
   ]
  },
  {
   "cell_type": "code",
   "execution_count": 52,
   "metadata": {},
   "outputs": [],
   "source": [
    "ntokens = 7\n",
    "N = 3\n",
    "n_heads = 8\n",
    "embed_size = 512\n",
    "seq_len = 11\n",
    "dep_len = 6\n",
    "smoothing = 0.001\n",
    "\n",
    "epochs = 50\n",
    "num_batches = 50\n",
    "batch_size = 16\n",
    "num_eval_batches = 20\n",
    "log_interval = 10\n",
    "warmup_steps = 3\n",
    "decay_factor = 0.5\n",
    "clip = 2\n",
    "lr = 0.5"
   ]
  },
  {
   "cell_type": "code",
   "execution_count": 3,
   "metadata": {},
   "outputs": [
    {
     "data": {
      "text/plain": [
       "(7, 7, 7, 7, 7, 7, 7)"
      ]
     },
     "execution_count": 3,
     "metadata": {},
     "output_type": "execute_result"
    }
   ],
   "source": [
    "# Generate some token transition probabilities\n",
    "probs = np.random.randint(1, 10*ntokens, size = tuple(ntokens for _ in range(dep_len+1)))\n",
    "# Normalize\n",
    "probs = probs / (probs.sum(axis = -1)[..., np.newaxis])\n",
    "probs.shape"
   ]
  },
  {
   "cell_type": "markdown",
   "metadata": {},
   "source": [
    "Trains a model that uses the Transformer Attention mechanism as described in [\"Attention is All You Need\" (Vaswani, et al.)](https://arxiv.org/abs/1706.03762)\n",
    "\n",
    "# Initialization and Setup\n",
    "The `TransformerAttention` class is defined in the file `transformer_attention.py`.\n",
    "\n",
    "## Model definition"
   ]
  },
  {
   "cell_type": "code",
   "execution_count": 4,
   "metadata": {},
   "outputs": [],
   "source": [
    "class TestModel(nn.Module):\n",
    "    def __init__(self, src_vocab, tgt_vocab, N = 6,\n",
    "                 embed_size = 512, ff_size = 2048,\n",
    "                 num_attn_heads = 8, dropout = 0.1):\n",
    "        super(TestModel, self).__init__()\n",
    "        self.src_vocab = src_vocab\n",
    "        self.tgt_vocab = tgt_vocab\n",
    "        self.N = N\n",
    "        self.embed_size = embed_size\n",
    "        self.ff_size = ff_size\n",
    "        self.num_attn_heads = num_attn_heads\n",
    "        \n",
    "        self.dropout = nn.Dropout(dropout)\n",
    "        self.src_embedding = nn.Embedding(src_vocab, embed_size)\n",
    "        self.tgt_embedding = nn.Embedding(tgt_vocab, embed_size)\n",
    "        self.attn = TransformerAttention(\n",
    "            src_vocab, tgt_vocab, d_model = embed_size,\n",
    "            d_ff = ff_size, h = num_attn_heads, N = N,\n",
    "            dropout = dropout\n",
    "        )\n",
    "        self.projection = nn.Linear(embed_size, tgt_vocab)\n",
    "        self.log_softmax = nn.LogSoftmax(-1)\n",
    "        \n",
    "        #self.src_embedding.weight = self.projection.weight\n",
    "        self.tgt_embedding.weight = self.projection.weight\n",
    "        \n",
    "    def init(self):\n",
    "        for p in self.parameters():\n",
    "            if p.dim() > 1:\n",
    "                nn.init.xavier_uniform(p)\n",
    "            else:\n",
    "                p.data.fill_(0)\n",
    "                \n",
    "    def forward(self, src, tgt, src_mask = None, tgt_mask = None):\n",
    "        src_embeddings = self.dropout(self.src_embedding(src))\n",
    "        tgt_embeddings = self.dropout(self.tgt_embedding(tgt))\n",
    "        \n",
    "        attentions = self.attn(src_embeddings, tgt_embeddings, src_mask, tgt_mask)\n",
    "        \n",
    "        logits = self.projection(self.dropout(attentions))\n",
    "        # LabelSmoothing loss requires the model output log-softmax\n",
    "        outputs = self.log_softmax(logits)\n",
    "        return outputs"
   ]
  },
  {
   "cell_type": "markdown",
   "metadata": {},
   "source": [
    "## Loss function definition (with label smoothing regularization)"
   ]
  },
  {
   "cell_type": "markdown",
   "metadata": {},
   "source": [
    "During training, we employ label smoothing of value $\\epsilon_{\\text{lr}} = 0.1$. This hurts perplexity as the model learns to be more unsure, but it improves accuracy and BLEU score.\n",
    "\n",
    "We implement label smoothing using the KL divergence loss. Instead of using a one-hot target distribution, we create a distribution that has `confidence` of the correct word and the rest of the `smoothing` mass distributed throughout the vocabulary."
   ]
  },
  {
   "cell_type": "code",
   "execution_count": 5,
   "metadata": {},
   "outputs": [],
   "source": [
    "class LabelSmoothing(nn.Module):\n",
    "    def __init__(self, size, padding_idx = None, smoothing = 0.0):\n",
    "        super(LabelSmoothing, self).__init__()\n",
    "        self.criterion = nn.KLDivLoss()\n",
    "        self.padding_idx = padding_idx\n",
    "        self.confidence = 1.0 - smoothing\n",
    "        self.smoothing = smoothing\n",
    "        self.size = size\n",
    "        self.true_dist = None\n",
    "        \n",
    "    def forward(self, x, target):\n",
    "        assert x.size(1) == self.size\n",
    "        true_dist = torch.zeros_like(x.data)\n",
    "        true_dist.scatter_(1, target.data.unsqueeze(1), self.confidence)\n",
    "        true_dist.add_(self.smoothing / self.size)\n",
    "        if self.padding_idx is not None:\n",
    "            true_dist[:, self.padding_idx] = 0\n",
    "            mask = torch.nonzero(target.data == self.padding_idx)\n",
    "            if mask.dim() > 0:\n",
    "                true_dist.index_fill_(0, mask.squeeze(), 0.0)\n",
    "        self.true_dist = true_dist\n",
    "        return self.criterion(x, Variable(true_dist, requires_grad = False)) * ntokens"
   ]
  },
  {
   "cell_type": "markdown",
   "metadata": {},
   "source": [
    "Example of how the probability mass is distributed to the words based on confidence:"
   ]
  },
  {
   "cell_type": "code",
   "execution_count": 6,
   "metadata": {},
   "outputs": [
    {
     "data": {
      "text/plain": [
       "<matplotlib.image.AxesImage at 0x267e12199b0>"
      ]
     },
     "execution_count": 6,
     "metadata": {},
     "output_type": "execute_result"
    },
    {
     "data": {
      "image/png": "[encoded data removed]",
      "text/plain": [
       "<matplotlib.figure.Figure at 0x267e11bd588>"
      ]
     },
     "metadata": {},
     "output_type": "display_data"
    }
   ],
   "source": [
    "# Example of label smoothing.\n",
    "crit = LabelSmoothing(5, None, 0.4)\n",
    "predict = torch.FloatTensor([[0, 0.2, 0.7, 0.1, 0],\n",
    "                             [0, 0.2, 0.7, 0.1, 0], \n",
    "                             [0, 0.2, 0.7, 0.1, 0]])\n",
    "v = crit(Variable(predict.log()), \n",
    "         Variable(torch.LongTensor([2, 1, 0])))\n",
    "\n",
    "# Show the target distributions expected by the system.\n",
    "plt.imshow(crit.true_dist)"
   ]
  },
  {
   "cell_type": "markdown",
   "metadata": {},
   "source": [
    "Label smoothing actually starts to penalize the model if it gets very confident about a given choice:"
   ]
  },
  {
   "cell_type": "markdown",
   "metadata": {},
   "source": [
    "## Optimizer\n",
    "Learning rate scheduler that sets the learning rate factor according to:\n",
    "\n",
    "$$\\text{lr} = d_{\\text{model}}^{-0.5}\\cdot\\min{(\\text{epoch}^{-0.5}, \\text{epoch}\\cdot\\text{warmup}^{-1.5})}$$\n",
    "\n",
    "This corresponds to increasing the learning rate linearly for the first $\\text{warmup}$ epochs, then decreasing it proportionally to the inverse square root of the epoch number.\n"
   ]
  },
  {
   "cell_type": "code",
   "execution_count": 7,
   "metadata": {},
   "outputs": [],
   "source": [
    "def get_lr_scheduler(h_size, warmup, optimizer):\n",
    "    lrate = lambda e: h_size**(-0.5) * min((e+1)**(-decay_factor), (e+1) * warmup**(-(decay_factor+1)))\n",
    "    return optim.lr_scheduler.LambdaLR(optimizer, lr_lambda = lrate)"
   ]
  },
  {
   "cell_type": "code",
   "execution_count": 8,
   "metadata": {},
   "outputs": [
    {
     "data": {
      "text/plain": [
       "<matplotlib.legend.Legend at 0x267e12b97b8>"
      ]
     },
     "execution_count": 8,
     "metadata": {},
     "output_type": "execute_result"
    },
    {
     "data": {
      "image/png": "[encoded data removed]",
      "text/plain": [
       "<matplotlib.figure.Figure at 0x267e1275ba8>"
      ]
     },
     "metadata": {},
     "output_type": "display_data"
    }
   ],
   "source": [
    "lrate = lambda factor, h_size, warmup: lambda e: factor*(h_size**(-0.5) * min(e**(-decay_factor), e * warmup**(-(decay_factor+1))))\n",
    "opts = [\n",
    "    lrate(2*lr, embed_size, warmup_steps), \n",
    "    lrate(lr, embed_size*2, warmup_steps),\n",
    "    lrate(lr, embed_size, warmup_steps//2),\n",
    "    lrate(lr, embed_size, warmup_steps),\n",
    "]\n",
    "plt.plot(np.arange(1, epochs+1), [[opt(i) for opt in opts] for i in range(1, epochs+1)])\n",
    "plt.legend([\n",
    "    \"%.1f:%d:%d\" % (2*lr, embed_size, warmup_steps),\n",
    "    \"%.1f:%d:%d\" % (lr, embed_size*2, warmup_steps),\n",
    "    \"%.1f:%d:%d\" % (lr, embed_size, warmup_steps//2),\n",
    "    \"%.1f:%d:%d\" % (lr, embed_size, warmup_steps),\n",
    "])"
   ]
  },
  {
   "cell_type": "markdown",
   "metadata": {},
   "source": [
    "# Initialization\n",
    "Initialize model, criterion, and optimizer"
   ]
  },
  {
   "cell_type": "code",
   "execution_count": 9,
   "metadata": {},
   "outputs": [
    {
     "name": "stdout",
     "output_type": "stream",
     "text": [
      "Model parameters: 9223\n"
     ]
    }
   ],
   "source": [
    "model = TestModel(ntokens, ntokens, embed_size = embed_size, N = N)\n",
    "model.init()\n",
    "criterion = LabelSmoothing(ntokens, smoothing = smoothing)\n",
    "optimizer = optim.Adam(model.parameters(), lr = lr)\n",
    "lr_scheduler = get_lr_scheduler(embed_size, warmup_steps, optimizer)\n",
    "nparams = sum([p.numel() for p in model.parameters()])\n",
    "print('Model parameters: %d' % nparams)"
   ]
  },
  {
   "cell_type": "markdown",
   "metadata": {},
   "source": [
    "## Generate data"
   ]
  },
  {
   "cell_type": "code",
   "execution_count": 10,
   "metadata": {},
   "outputs": [],
   "source": [
    "def gen_data(num_batches, batch_size, seq_len):\n",
    "    num_data = num_batches * batch_size * seq_len\n",
    "    # Initialize numpy array for the generated data\n",
    "    data = np.zeros((num_data,), dtype = int)\n",
    "    # Randomly generate a series of starting tokens\n",
    "    ts = [np.random.randint(ntokens, size = 1) for _ in range(dep_len)]\n",
    "    # Generate the data\n",
    "    for i in range(num_data):\n",
    "        pr = probs[ts].squeeze()\n",
    "        data[i] = np.random.choice(ntokens, p = pr)\n",
    "        ts.pop(0)\n",
    "        ts.append(data[i].reshape(1,1))\n",
    "    return torch.from_numpy(data).type(torch.LongTensor)"
   ]
  },
  {
   "cell_type": "markdown",
   "metadata": {},
   "source": [
    "# Train and evaluate\n",
    "## Training helpers\n",
    "Classes and functions that handle generating batches of test data and running a single training iteration."
   ]
  },
  {
   "cell_type": "code",
   "execution_count": 11,
   "metadata": {},
   "outputs": [],
   "source": [
    "def batchify(data, batch_size):\n",
    "    nbatches = data.size(0) // batch_size\n",
    "    data = data.narrow(0, 0, nbatches * batch_size)\n",
    "    data = data.view(batch_size, -1).contiguous()\n",
    "    return data"
   ]
  },
  {
   "cell_type": "code",
   "execution_count": 12,
   "metadata": {},
   "outputs": [
    {
     "data": {
      "text/plain": [
       "(torch.Size([16, 550]), torch.Size([16, 220]), torch.Size([16, 220]))"
      ]
     },
     "execution_count": 12,
     "metadata": {},
     "output_type": "execute_result"
    }
   ],
   "source": [
    "train_data = batchify(gen_data(num_batches, batch_size, seq_len), batch_size)\n",
    "test_data = batchify(gen_data(num_eval_batches, batch_size, seq_len), batch_size)\n",
    "val_data = batchify(gen_data(num_eval_batches, batch_size, seq_len), batch_size)\n",
    "train_data.shape, test_data.shape, val_data.shape"
   ]
  },
  {
   "cell_type": "code",
   "execution_count": 13,
   "metadata": {},
   "outputs": [],
   "source": [
    "def get_batch(src, i, seq_len, evaluate = False):\n",
    "    seq_len = min(seq_len, src.size(1) - 2 - i)\n",
    "    data = Variable(src[:, i+1 : i+seq_len+1].contiguous(), volatile = evaluate)\n",
    "    prev = Variable(src[:, i : i+seq_len].contiguous(), volatile = evaluate)\n",
    "    targets = Variable(src[:, i+2 : i+seq_len+2].contiguous(), volatile = evaluate)\n",
    "    return data, prev, targets"
   ]
  },
  {
   "cell_type": "code",
   "execution_count": 14,
   "metadata": {},
   "outputs": [],
   "source": [
    "# Training loop\n",
    "def train():\n",
    "    # Use random length sequences\n",
    "    seq_lens = []\n",
    "    tot_len = 0\n",
    "    jitter = 0.05 * seq_len\n",
    "    num_data = train_data.size(1)\n",
    "    while tot_len < num_data - 3:\n",
    "        if num_data - tot_len - 3 < seq_len + jitter:\n",
    "            slen = num_data - tot_len - 3\n",
    "        else:\n",
    "            slen = int(np.random.normal(seq_len, jitter))\n",
    "            if slen <= 0:\n",
    "                slen = seq_len    # eh\n",
    "            if tot_len + slen >= num_data - jitter - 3:\n",
    "                slen = num_data - tot_len - 3\n",
    "        seq_lens.append(slen)\n",
    "        tot_len += slen\n",
    "    i_cumseq = [0] + list(np.cumsum(seq_lens)[:-1])\n",
    "    idx = np.arange(len(seq_lens))\n",
    "    np.random.shuffle(idx)\n",
    "    # Turn on training mode\n",
    "    model.train()\n",
    "    # Pre metainfo\n",
    "    total_loss = 0\n",
    "    start_time = time.time()\n",
    "    for batch, i in enumerate(idx):\n",
    "        # Get training data\n",
    "        data, prev, targets = get_batch(train_data, i_cumseq[i], seq_lens[i])\n",
    "        # Zero out gradients\n",
    "        model.zero_grad()\n",
    "        \n",
    "        # Run the model forward\n",
    "        output = model(data, prev)\n",
    "        if np.isnan(output.data).any():\n",
    "            return 0, data, prev, targets\n",
    "        # Calculate loss\n",
    "        loss = criterion(output.view(-1, ntokens), targets.view(-1))\n",
    "        if np.isnan(loss.data[0]):\n",
    "            return 1, data, prev, targets\n",
    "        # Propagate loss gradient backwards\n",
    "        loss.backward()\n",
    "        # Clip gradients\n",
    "        if batch % log_interval == 0 and batch > 0:\n",
    "            # Save gradient statistics before they're changed cuz we'll be logging this batch\n",
    "            parameters = [p for p in model.parameters() if p.grad is not None]\n",
    "            # Calculate the largest (absolute) gradient of all elements in the model parameters\n",
    "            max_grad = max([p.grad.data.abs().max() for p in parameters])\n",
    "        total_norm = nn.utils.clip_grad_norm(model.parameters(), clip)\n",
    "        # Scale the batch learning rate so that shorter sequences aren't \"stronger\"\n",
    "        scaled_lr = lr_scheduler.get_lr()[0] * np.sqrt(seq_lens[i] / seq_len)\n",
    "        for param_group in optimizer.param_groups:\n",
    "            param_group['lr'] = scaled_lr\n",
    "        # Update parameters\n",
    "        optimizer.step()\n",
    "        \n",
    "        # Metainfo logging\n",
    "        total_loss += loss.data\n",
    "        if batch % log_interval == 0 and batch > 0:\n",
    "            elapsed = time.time() - start_time\n",
    "            cur_loss = total_loss[0] / log_interval\n",
    "            print(' b {:3d}/{:3d} >> {:6.1f} ms/b | lr: {:4.2f} | grad norm: {:4.2f} | max abs grad: {:4.2f} | loss: {:4.2f} | perp.: {:5.2f}'.format(\n",
    "                batch, len(seq_lens), elapsed * 1000/log_interval, scaled_lr, total_norm, max_grad, cur_loss, np.exp(cur_loss)\n",
    "            ))\n",
    "            total_loss = 0\n",
    "            start_time = time.time()\n",
    "    return -1, None, None, None"
   ]
  },
  {
   "cell_type": "code",
   "execution_count": 15,
   "metadata": {},
   "outputs": [],
   "source": [
    "def evaluate(data_src):\n",
    "    model.eval()\n",
    "    total_loss = 0\n",
    "    for i in range(0, data_src.size(1) - 2, seq_len):\n",
    "        # Get data\n",
    "        data, prev, targets = get_batch(data_src, i, seq_len, evaluate = True)\n",
    "        # Zero out gradients\n",
    "        model.zero_grad()\n",
    "        \n",
    "        # Run model forward\n",
    "        output = model(data, prev)\n",
    "        # Calculate loss\n",
    "        loss = criterion(output.view(-1, ntokens), targets.view(-1))\n",
    "        total_loss += loss.data * data.size(1)\n",
    "    return total_loss[0] / (data.size(1) - 2)"
   ]
  },
  {
   "cell_type": "markdown",
   "metadata": {},
   "source": [
    "Train and evaluate"
   ]
  },
  {
   "cell_type": "code",
   "execution_count": 16,
   "metadata": {
    "scrolled": true
   },
   "outputs": [
    {
     "name": "stdout",
     "output_type": "stream",
     "text": [
      "Epoch   1/ 50) lr = 0.004253 (warmup)\n",
      " b  10/ 53 >>  569.7 ms/b | lr: 0.00 | grad norm: 0.19 | max abs grad: 0.05 | loss: 2.14 | perp.:  8.48\n",
      " b  20/ 53 >>  531.7 ms/b | lr: 0.00 | grad norm: 0.15 | max abs grad: 0.05 | loss: 1.94 | perp.:  6.97\n",
      " b  30/ 53 >>  519.7 ms/b | lr: 0.00 | grad norm: 0.17 | max abs grad: 0.05 | loss: 1.94 | perp.:  6.97\n",
      " b  40/ 53 >>  504.8 ms/b | lr: 0.00 | grad norm: 0.15 | max abs grad: 0.04 | loss: 1.94 | perp.:  6.96\n",
      " b  50/ 53 >>  503.1 ms/b | lr: 0.00 | grad norm: 0.17 | max abs grad: 0.04 | loss: 1.94 | perp.:  6.96\n",
      "------------------------------------------------------------------------------------------------------\n",
      "Elapsed time: 26.65 sec | max abs wt:  0.28 | valid_loss:  3.87 | valid_perplexity: 48.03\n",
      "======================================================================================================\n",
      "\n",
      "\n",
      "Epoch   2/ 50) lr = 0.008505 (warmup)\n",
      " b  10/ 52 >>  548.6 ms/b | lr: 0.01 | grad norm: 0.17 | max abs grad: 0.06 | loss: 2.14 | perp.:  8.48\n",
      " b  20/ 52 >>  554.7 ms/b | lr: 0.01 | grad norm: 0.17 | max abs grad: 0.07 | loss: 1.94 | perp.:  6.97\n",
      " b  30/ 52 >>  559.7 ms/b | lr: 0.01 | grad norm: 0.17 | max abs grad: 0.06 | loss: 1.94 | perp.:  6.96\n",
      " b  40/ 52 >>  547.6 ms/b | lr: 0.01 | grad norm: 0.12 | max abs grad: 0.02 | loss: 1.93 | perp.:  6.88\n",
      " b  50/ 52 >>  514.2 ms/b | lr: 0.01 | grad norm: 0.19 | max abs grad: 0.05 | loss: 1.91 | perp.:  6.75\n",
      "------------------------------------------------------------------------------------------------------\n",
      "Elapsed time: 27.41 sec | max abs wt:  0.88 | valid_loss:  3.77 | valid_perplexity: 43.53\n",
      "======================================================================================================\n",
      "\n",
      "\n",
      "Epoch   3/ 50) lr = 0.01276 (warmup)\n",
      " b  10/ 54 >>  614.6 ms/b | lr: 0.01 | grad norm: 0.25 | max abs grad: 0.06 | loss: 2.03 | perp.:  7.61\n",
      " b  20/ 54 >>  502.9 ms/b | lr: 0.01 | grad norm: 0.34 | max abs grad: 0.07 | loss: 1.82 | perp.:  6.16\n",
      " b  30/ 54 >>  522.7 ms/b | lr: 0.01 | grad norm: 0.38 | max abs grad: 0.07 | loss: 1.76 | perp.:  5.82\n",
      " b  40/ 54 >>  509.4 ms/b | lr: 0.01 | grad norm: 0.31 | max abs grad: 0.05 | loss: 1.76 | perp.:  5.79\n",
      " b  50/ 54 >>  477.6 ms/b | lr: 0.01 | grad norm: 0.47 | max abs grad: 0.09 | loss: 1.69 | perp.:  5.41\n",
      "------------------------------------------------------------------------------------------------------\n",
      "Elapsed time: 27.15 sec | max abs wt:  1.74 | valid_loss:  3.27 | valid_perplexity: 26.37\n",
      "======================================================================================================\n",
      "\n",
      "\n",
      "Epoch   4/ 50) lr = 0.01105\n",
      " b  10/ 52 >>  557.0 ms/b | lr: 0.01 | grad norm: 0.33 | max abs grad: 0.06 | loss: 1.83 | perp.:  6.25\n",
      " b  20/ 52 >>  485.7 ms/b | lr: 0.01 | grad norm: 0.34 | max abs grad: 0.06 | loss: 1.68 | perp.:  5.35\n",
      " b  30/ 52 >>  503.6 ms/b | lr: 0.01 | grad norm: 0.32 | max abs grad: 0.05 | loss: 1.64 | perp.:  5.18\n",
      " b  40/ 52 >>  486.3 ms/b | lr: 0.01 | grad norm: 0.41 | max abs grad: 0.07 | loss: 1.60 | perp.:  4.95\n",
      " b  50/ 52 >>  503.6 ms/b | lr: 0.01 | grad norm: 0.49 | max abs grad: 0.07 | loss: 1.59 | perp.:  4.90\n",
      "------------------------------------------------------------------------------------------------------\n",
      "Elapsed time: 25.51 sec | max abs wt:  2.44 | valid_loss:  3.09 | valid_perplexity: 21.87\n",
      "======================================================================================================\n",
      "\n",
      "\n",
      "Epoch   5/ 50) lr = 0.009882\n",
      " b  10/ 53 >>  593.0 ms/b | lr: 0.01 | grad norm: 0.35 | max abs grad: 0.07 | loss: 1.71 | perp.:  5.51\n",
      " b  20/ 53 >>  520.1 ms/b | lr: 0.01 | grad norm: 0.29 | max abs grad: 0.04 | loss: 1.56 | perp.:  4.78\n",
      " b  30/ 53 >>  535.6 ms/b | lr: 0.01 | grad norm: 0.45 | max abs grad: 0.06 | loss: 1.52 | perp.:  4.56\n",
      " b  40/ 53 >>  503.9 ms/b | lr: 0.01 | grad norm: 0.29 | max abs grad: 0.04 | loss: 1.50 | perp.:  4.50\n",
      " b  50/ 53 >>  505.6 ms/b | lr: 0.01 | grad norm: 0.36 | max abs grad: 0.05 | loss: 1.47 | perp.:  4.34\n",
      "------------------------------------------------------------------------------------------------------\n",
      "Elapsed time: 26.94 sec | max abs wt:  3.01 | valid_loss:  2.81 | valid_perplexity: 16.54\n",
      "======================================================================================================\n",
      "\n",
      "\n",
      "Epoch   6/ 50) lr = 0.009021\n",
      " b  10/ 53 >>  559.8 ms/b | lr: 0.01 | grad norm: 0.37 | max abs grad: 0.05 | loss: 1.57 | perp.:  4.81\n",
      " b  20/ 53 >>  512.0 ms/b | lr: 0.01 | grad norm: 0.47 | max abs grad: 0.06 | loss: 1.48 | perp.:  4.38\n",
      " b  30/ 53 >>  523.7 ms/b | lr: 0.01 | grad norm: 0.51 | max abs grad: 0.07 | loss: 1.40 | perp.:  4.07\n",
      " b  40/ 53 >>  529.2 ms/b | lr: 0.01 | grad norm: 0.40 | max abs grad: 0.06 | loss: 1.41 | perp.:  4.11\n",
      " b  50/ 53 >>  530.4 ms/b | lr: 0.01 | grad norm: 0.33 | max abs grad: 0.05 | loss: 1.39 | perp.:  4.02\n",
      "------------------------------------------------------------------------------------------------------\n",
      "Elapsed time: 26.92 sec | max abs wt:  3.49 | valid_loss:  2.63 | valid_perplexity: 13.89\n",
      "======================================================================================================\n",
      "\n",
      "\n",
      "Epoch   7/ 50) lr = 0.008352\n",
      " b  10/ 53 >>  587.7 ms/b | lr: 0.01 | grad norm: 0.39 | max abs grad: 0.06 | loss: 1.48 | perp.:  4.41\n",
      " b  20/ 53 >>  526.7 ms/b | lr: 0.01 | grad norm: 0.32 | max abs grad: 0.04 | loss: 1.40 | perp.:  4.04\n",
      " b  30/ 53 >>  518.2 ms/b | lr: 0.01 | grad norm: 0.40 | max abs grad: 0.05 | loss: 1.33 | perp.:  3.79\n",
      " b  40/ 53 >>  528.7 ms/b | lr: 0.01 | grad norm: 0.42 | max abs grad: 0.08 | loss: 1.34 | perp.:  3.80\n",
      " b  50/ 53 >>  507.2 ms/b | lr: 0.01 | grad norm: 0.38 | max abs grad: 0.05 | loss: 1.32 | perp.:  3.74\n",
      "------------------------------------------------------------------------------------------------------\n",
      "Elapsed time: 27.11 sec | max abs wt:  3.77 | valid_loss:  2.45 | valid_perplexity: 11.59\n",
      "======================================================================================================\n",
      "\n",
      "\n",
      "Epoch   8/ 50) lr = 0.007813\n",
      " b  10/ 52 >>  598.4 ms/b | lr: 0.01 | grad norm: 0.46 | max abs grad: 0.07 | loss: 1.44 | perp.:  4.21\n",
      " b  20/ 52 >>  522.8 ms/b | lr: 0.01 | grad norm: 0.34 | max abs grad: 0.04 | loss: 1.34 | perp.:  3.80\n",
      " b  30/ 52 >>  532.2 ms/b | lr: 0.01 | grad norm: 0.42 | max abs grad: 0.05 | loss: 1.29 | perp.:  3.65\n",
      " b  40/ 52 >>  525.7 ms/b | lr: 0.01 | grad norm: 0.36 | max abs grad: 0.05 | loss: 1.28 | perp.:  3.61\n",
      " b  50/ 52 >>  497.2 ms/b | lr: 0.01 | grad norm: 0.55 | max abs grad: 0.08 | loss: 1.31 | perp.:  3.71\n",
      "------------------------------------------------------------------------------------------------------\n",
      "Elapsed time: 26.90 sec | max abs wt:  4.06 | valid_loss:  2.44 | valid_perplexity: 11.51\n",
      "======================================================================================================\n",
      "\n",
      "\n",
      "Epoch   9/ 50) lr = 0.007366\n",
      " b  10/ 52 >>  602.6 ms/b | lr: 0.01 | grad norm: 0.39 | max abs grad: 0.04 | loss: 1.34 | perp.:  3.84\n",
      " b  20/ 52 >>  527.6 ms/b | lr: 0.01 | grad norm: 0.29 | max abs grad: 0.04 | loss: 1.31 | perp.:  3.70\n",
      " b  30/ 52 >>  519.2 ms/b | lr: 0.01 | grad norm: 0.45 | max abs grad: 0.06 | loss: 1.24 | perp.:  3.47\n",
      " b  40/ 52 >>  524.4 ms/b | lr: 0.01 | grad norm: 0.33 | max abs grad: 0.03 | loss: 1.26 | perp.:  3.52\n",
      " b  50/ 52 >>  505.3 ms/b | lr: 0.01 | grad norm: 1.30 | max abs grad: 0.16 | loss: 1.34 | perp.:  3.82\n",
      "------------------------------------------------------------------------------------------------------\n",
      "Elapsed time: 26.95 sec | max abs wt:  4.30 | valid_loss:  2.24 | valid_perplexity:  9.38\n",
      "======================================================================================================\n",
      "\n",
      "\n",
      "Epoch  10/ 50) lr = 0.006988\n",
      " b  10/ 53 >>  562.2 ms/b | lr: 0.01 | grad norm: 0.37 | max abs grad: 0.04 | loss: 1.32 | perp.:  3.73\n",
      " b  20/ 53 >>  514.9 ms/b | lr: 0.01 | grad norm: 0.36 | max abs grad: 0.04 | loss: 1.27 | perp.:  3.56\n",
      " b  30/ 53 >>  505.1 ms/b | lr: 0.01 | grad norm: 0.36 | max abs grad: 0.04 | loss: 1.24 | perp.:  3.47\n",
      " b  40/ 53 >>  496.7 ms/b | lr: 0.01 | grad norm: 0.34 | max abs grad: 0.04 | loss: 1.23 | perp.:  3.41\n",
      " b  50/ 53 >>  500.9 ms/b | lr: 0.01 | grad norm: 0.34 | max abs grad: 0.04 | loss: 1.21 | perp.:  3.35\n"
     ]
    },
    {
     "name": "stdout",
     "output_type": "stream",
     "text": [
      "------------------------------------------------------------------------------------------------------\n",
      "Elapsed time: 26.15 sec | max abs wt:  4.55 | valid_loss:  2.24 | valid_perplexity:  9.40\n",
      "======================================================================================================\n",
      "\n",
      "\n",
      "Epoch  11/ 50) lr = 0.006663\n",
      " b  10/ 53 >>  536.7 ms/b | lr: 0.01 | grad norm: 0.37 | max abs grad: 0.04 | loss: 1.31 | perp.:  3.70\n",
      " b  20/ 53 >>  520.2 ms/b | lr: 0.01 | grad norm: 0.38 | max abs grad: 0.04 | loss: 1.27 | perp.:  3.58\n",
      " b  30/ 53 >>  486.0 ms/b | lr: 0.01 | grad norm: 0.37 | max abs grad: 0.04 | loss: 1.20 | perp.:  3.30\n",
      " b  40/ 53 >>  519.0 ms/b | lr: 0.01 | grad norm: 0.32 | max abs grad: 0.03 | loss: 1.20 | perp.:  3.31\n",
      " b  50/ 53 >>  525.8 ms/b | lr: 0.01 | grad norm: 0.37 | max abs grad: 0.05 | loss: 1.20 | perp.:  3.33\n",
      "------------------------------------------------------------------------------------------------------\n",
      "Elapsed time: 26.31 sec | max abs wt:  4.78 | valid_loss:  2.22 | valid_perplexity:  9.24\n",
      "======================================================================================================\n",
      "\n",
      "\n",
      "Epoch  12/ 50) lr = 0.006379\n",
      " b  10/ 52 >>  566.9 ms/b | lr: 0.01 | grad norm: 0.39 | max abs grad: 0.04 | loss: 1.30 | perp.:  3.66\n",
      " b  20/ 52 >>  522.9 ms/b | lr: 0.01 | grad norm: 0.34 | max abs grad: 0.04 | loss: 1.24 | perp.:  3.46\n",
      " b  30/ 52 >>  527.1 ms/b | lr: 0.01 | grad norm: 0.35 | max abs grad: 0.04 | loss: 1.19 | perp.:  3.28\n",
      " b  40/ 52 >>  480.4 ms/b | lr: 0.01 | grad norm: 0.33 | max abs grad: 0.03 | loss: 1.18 | perp.:  3.27\n",
      " b  50/ 52 >>  518.1 ms/b | lr: 0.01 | grad norm: 0.34 | max abs grad: 0.03 | loss: 1.19 | perp.:  3.30\n",
      "------------------------------------------------------------------------------------------------------\n",
      "Elapsed time: 26.32 sec | max abs wt:  4.97 | valid_loss:  2.15 | valid_perplexity:  8.58\n",
      "======================================================================================================\n",
      "\n",
      "\n",
      "Epoch  13/ 50) lr = 0.006129\n",
      " b  10/ 52 >>  581.7 ms/b | lr: 0.01 | grad norm: 0.31 | max abs grad: 0.03 | loss: 1.27 | perp.:  3.56\n",
      " b  20/ 52 >>  531.4 ms/b | lr: 0.01 | grad norm: 0.38 | max abs grad: 0.05 | loss: 1.21 | perp.:  3.36\n",
      " b  30/ 52 >>  507.4 ms/b | lr: 0.01 | grad norm: 0.29 | max abs grad: 0.04 | loss: 1.18 | perp.:  3.24\n",
      " b  40/ 52 >>  516.4 ms/b | lr: 0.01 | grad norm: 0.31 | max abs grad: 0.03 | loss: 1.16 | perp.:  3.20\n",
      " b  50/ 52 >>  468.0 ms/b | lr: 0.01 | grad norm: 0.48 | max abs grad: 0.08 | loss: 1.20 | perp.:  3.32\n",
      "------------------------------------------------------------------------------------------------------\n",
      "Elapsed time: 26.19 sec | max abs wt:  5.17 | valid_loss:  2.13 | valid_perplexity:  8.41\n",
      "======================================================================================================\n",
      "\n",
      "\n",
      "Epoch  14/ 50) lr = 0.005906\n",
      " b  10/ 52 >>  543.0 ms/b | lr: 0.01 | grad norm: 0.33 | max abs grad: 0.03 | loss: 1.23 | perp.:  3.41\n",
      " b  20/ 52 >>  494.1 ms/b | lr: 0.01 | grad norm: 0.34 | max abs grad: 0.03 | loss: 1.21 | perp.:  3.35\n",
      " b  30/ 52 >>  522.0 ms/b | lr: 0.01 | grad norm: 0.38 | max abs grad: 0.04 | loss: 1.17 | perp.:  3.21\n",
      " b  40/ 52 >>  491.4 ms/b | lr: 0.01 | grad norm: 0.32 | max abs grad: 0.03 | loss: 1.15 | perp.:  3.17\n",
      " b  50/ 52 >>  509.8 ms/b | lr: 0.01 | grad norm: 0.35 | max abs grad: 0.03 | loss: 1.14 | perp.:  3.12\n",
      "------------------------------------------------------------------------------------------------------\n",
      "Elapsed time: 25.77 sec | max abs wt:  5.37 | valid_loss:  2.03 | valid_perplexity:  7.61\n",
      "======================================================================================================\n",
      "\n",
      "\n",
      "Epoch  15/ 50) lr = 0.005705\n",
      " b  10/ 53 >>  556.9 ms/b | lr: 0.01 | grad norm: 0.36 | max abs grad: 0.03 | loss: 1.22 | perp.:  3.39\n",
      " b  20/ 53 >>  500.4 ms/b | lr: 0.01 | grad norm: 0.35 | max abs grad: 0.05 | loss: 1.19 | perp.:  3.30\n",
      " b  30/ 53 >>  520.9 ms/b | lr: 0.01 | grad norm: 0.35 | max abs grad: 0.03 | loss: 1.15 | perp.:  3.15\n",
      " b  40/ 53 >>  517.4 ms/b | lr: 0.01 | grad norm: 0.35 | max abs grad: 0.05 | loss: 1.16 | perp.:  3.20\n",
      " b  50/ 53 >>  497.9 ms/b | lr: 0.01 | grad norm: 0.38 | max abs grad: 0.04 | loss: 1.13 | perp.:  3.11\n",
      "------------------------------------------------------------------------------------------------------\n",
      "Elapsed time: 26.31 sec | max abs wt:  5.59 | valid_loss:  1.95 | valid_perplexity:  7.02\n",
      "======================================================================================================\n",
      "\n",
      "\n",
      "Epoch  16/ 50) lr = 0.005524\n",
      " b  10/ 52 >>  565.5 ms/b | lr: 0.01 | grad norm: 0.36 | max abs grad: 0.03 | loss: 1.23 | perp.:  3.42\n",
      " b  20/ 52 >>  508.0 ms/b | lr: 0.01 | grad norm: 0.34 | max abs grad: 0.04 | loss: 1.18 | perp.:  3.25\n",
      " b  30/ 52 >>  500.1 ms/b | lr: 0.01 | grad norm: 0.38 | max abs grad: 0.04 | loss: 1.13 | perp.:  3.11\n",
      " b  40/ 52 >>  487.8 ms/b | lr: 0.00 | grad norm: 0.39 | max abs grad: 0.04 | loss: 1.12 | perp.:  3.06\n",
      " b  50/ 52 >>  517.8 ms/b | lr: 0.01 | grad norm: 0.29 | max abs grad: 0.03 | loss: 1.15 | perp.:  3.16\n",
      "------------------------------------------------------------------------------------------------------\n",
      "Elapsed time: 25.94 sec | max abs wt:  5.75 | valid_loss:  1.93 | valid_perplexity:  6.86\n",
      "======================================================================================================\n",
      "\n",
      "\n",
      "Epoch  17/ 50) lr = 0.005359\n",
      " b  10/ 52 >>  566.4 ms/b | lr: 0.01 | grad norm: 0.32 | max abs grad: 0.03 | loss: 1.19 | perp.:  3.30\n",
      " b  20/ 52 >>  511.7 ms/b | lr: 0.01 | grad norm: 0.38 | max abs grad: 0.05 | loss: 1.15 | perp.:  3.16\n",
      " b  30/ 52 >>  515.4 ms/b | lr: 0.01 | grad norm: 0.32 | max abs grad: 0.04 | loss: 1.15 | perp.:  3.14\n",
      " b  40/ 52 >>  532.5 ms/b | lr: 0.01 | grad norm: 0.37 | max abs grad: 0.03 | loss: 1.16 | perp.:  3.18\n",
      " b  50/ 52 >>  499.1 ms/b | lr: 0.01 | grad norm: 0.41 | max abs grad: 0.06 | loss: 1.13 | perp.:  3.11\n",
      "------------------------------------------------------------------------------------------------------\n",
      "Elapsed time: 26.38 sec | max abs wt:  5.89 | valid_loss:  1.93 | valid_perplexity:  6.92\n",
      "======================================================================================================\n",
      "\n",
      "\n",
      "Epoch  18/ 50) lr = 0.005208\n",
      " b  10/ 53 >>  581.1 ms/b | lr: 0.00 | grad norm: 0.51 | max abs grad: 0.08 | loss: 1.21 | perp.:  3.37\n",
      " b  20/ 53 >>  496.0 ms/b | lr: 0.01 | grad norm: 0.35 | max abs grad: 0.04 | loss: 1.15 | perp.:  3.15\n",
      " b  30/ 53 >>  513.0 ms/b | lr: 0.01 | grad norm: 0.34 | max abs grad: 0.03 | loss: 1.10 | perp.:  3.01\n",
      " b  40/ 53 >>  506.1 ms/b | lr: 0.01 | grad norm: 0.36 | max abs grad: 0.04 | loss: 1.13 | perp.:  3.08\n",
      " b  50/ 53 >>  513.9 ms/b | lr: 0.00 | grad norm: 0.43 | max abs grad: 0.04 | loss: 1.11 | perp.:  3.03\n",
      "------------------------------------------------------------------------------------------------------\n",
      "Elapsed time: 26.49 sec | max abs wt:  6.02 | valid_loss:  1.88 | valid_perplexity:  6.56\n",
      "======================================================================================================\n",
      "\n",
      "\n",
      "Epoch  19/ 50) lr = 0.005069\n",
      " b  10/ 52 >>  560.4 ms/b | lr: 0.01 | grad norm: 0.37 | max abs grad: 0.04 | loss: 1.19 | perp.:  3.28\n",
      " b  20/ 52 >>  506.4 ms/b | lr: 0.00 | grad norm: 0.34 | max abs grad: 0.03 | loss: 1.13 | perp.:  3.10\n",
      " b  30/ 52 >>  519.5 ms/b | lr: 0.01 | grad norm: 0.42 | max abs grad: 0.04 | loss: 1.10 | perp.:  3.01\n",
      " b  40/ 52 >>  485.2 ms/b | lr: 0.01 | grad norm: 0.30 | max abs grad: 0.02 | loss: 1.12 | perp.:  3.05\n",
      " b  50/ 52 >>  493.7 ms/b | lr: 0.01 | grad norm: 0.34 | max abs grad: 0.03 | loss: 1.10 | perp.:  3.01\n",
      "------------------------------------------------------------------------------------------------------\n",
      "Elapsed time: 25.79 sec | max abs wt:  6.16 | valid_loss:  1.89 | valid_perplexity:  6.61\n",
      "======================================================================================================\n",
      "\n",
      "\n",
      "Epoch  20/ 50) lr = 0.004941\n",
      " b  10/ 52 >>  574.0 ms/b | lr: 0.00 | grad norm: 0.36 | max abs grad: 0.04 | loss: 1.17 | perp.:  3.22\n",
      " b  20/ 52 >>  501.9 ms/b | lr: 0.01 | grad norm: 0.29 | max abs grad: 0.03 | loss: 1.16 | perp.:  3.18\n",
      " b  30/ 52 >>  493.7 ms/b | lr: 0.00 | grad norm: 0.34 | max abs grad: 0.04 | loss: 1.09 | perp.:  2.97\n"
     ]
    },
    {
     "name": "stdout",
     "output_type": "stream",
     "text": [
      " b  40/ 52 >>  495.9 ms/b | lr: 0.00 | grad norm: 0.41 | max abs grad: 0.05 | loss: 1.09 | perp.:  2.96\n",
      " b  50/ 52 >>  481.8 ms/b | lr: 0.00 | grad norm: 0.42 | max abs grad: 0.08 | loss: 1.12 | perp.:  3.05\n",
      "------------------------------------------------------------------------------------------------------\n",
      "Elapsed time: 25.62 sec | max abs wt:  6.28 | valid_loss:  1.80 | valid_perplexity:  6.04\n",
      "======================================================================================================\n",
      "\n",
      "\n",
      "Epoch  21/ 50) lr = 0.004822\n",
      " b  10/ 53 >>  551.0 ms/b | lr: 0.00 | grad norm: 0.31 | max abs grad: 0.03 | loss: 1.14 | perp.:  3.12\n",
      " b  20/ 53 >>  506.7 ms/b | lr: 0.00 | grad norm: 0.44 | max abs grad: 0.04 | loss: 1.09 | perp.:  2.98\n",
      " b  30/ 53 >>  488.5 ms/b | lr: 0.00 | grad norm: 0.36 | max abs grad: 0.03 | loss: 1.09 | perp.:  2.97\n",
      " b  40/ 53 >>  500.1 ms/b | lr: 0.00 | grad norm: 0.30 | max abs grad: 0.02 | loss: 1.09 | perp.:  2.99\n",
      " b  50/ 53 >>  515.2 ms/b | lr: 0.00 | grad norm: 0.37 | max abs grad: 0.03 | loss: 1.05 | perp.:  2.85\n",
      "------------------------------------------------------------------------------------------------------\n",
      "Elapsed time: 26.10 sec | max abs wt:  6.42 | valid_loss:  1.87 | valid_perplexity:  6.46\n",
      "======================================================================================================\n",
      "\n",
      "\n",
      "Epoch  22/ 50) lr = 0.004711\n",
      " b  10/ 52 >>  563.3 ms/b | lr: 0.00 | grad norm: 0.35 | max abs grad: 0.03 | loss: 1.14 | perp.:  3.12\n",
      " b  20/ 52 >>  515.7 ms/b | lr: 0.00 | grad norm: 0.37 | max abs grad: 0.04 | loss: 1.08 | perp.:  2.95\n",
      " b  30/ 52 >>  527.3 ms/b | lr: 0.00 | grad norm: 0.32 | max abs grad: 0.04 | loss: 1.09 | perp.:  2.96\n",
      " b  40/ 52 >>  504.7 ms/b | lr: 0.00 | grad norm: 0.37 | max abs grad: 0.03 | loss: 1.10 | perp.:  3.00\n",
      " b  50/ 52 >>  500.5 ms/b | lr: 0.00 | grad norm: 0.39 | max abs grad: 0.04 | loss: 1.08 | perp.:  2.95\n",
      "------------------------------------------------------------------------------------------------------\n",
      "Elapsed time: 26.25 sec | max abs wt:  6.53 | valid_loss:  1.85 | valid_perplexity:  6.36\n",
      "======================================================================================================\n",
      "\n",
      "\n",
      "Epoch  23/ 50) lr = 0.004608\n",
      " b  10/ 53 >>  557.0 ms/b | lr: 0.00 | grad norm: 0.36 | max abs grad: 0.03 | loss: 1.16 | perp.:  3.21\n",
      " b  20/ 53 >>  502.3 ms/b | lr: 0.00 | grad norm: 0.31 | max abs grad: 0.03 | loss: 1.11 | perp.:  3.02\n",
      " b  30/ 53 >>  527.7 ms/b | lr: 0.00 | grad norm: 0.35 | max abs grad: 0.03 | loss: 1.08 | perp.:  2.95\n",
      " b  40/ 53 >>  528.5 ms/b | lr: 0.00 | grad norm: 0.38 | max abs grad: 0.04 | loss: 1.07 | perp.:  2.91\n",
      " b  50/ 53 >>  501.8 ms/b | lr: 0.00 | grad norm: 0.35 | max abs grad: 0.03 | loss: 1.08 | perp.:  2.94\n",
      "------------------------------------------------------------------------------------------------------\n",
      "Elapsed time: 26.74 sec | max abs wt:  6.65 | valid_loss:  1.71 | valid_perplexity:  5.54\n",
      "======================================================================================================\n",
      "\n",
      "\n",
      "Epoch  24/ 50) lr = 0.004511\n",
      " b  10/ 52 >>  569.0 ms/b | lr: 0.00 | grad norm: 0.32 | max abs grad: 0.03 | loss: 1.13 | perp.:  3.08\n",
      " b  20/ 52 >>  519.9 ms/b | lr: 0.00 | grad norm: 0.37 | max abs grad: 0.04 | loss: 1.08 | perp.:  2.94\n",
      " b  30/ 52 >>  523.9 ms/b | lr: 0.00 | grad norm: 0.35 | max abs grad: 0.03 | loss: 1.08 | perp.:  2.94\n",
      " b  40/ 52 >>  514.0 ms/b | lr: 0.00 | grad norm: 0.35 | max abs grad: 0.04 | loss: 1.03 | perp.:  2.80\n",
      " b  50/ 52 >>  537.3 ms/b | lr: 0.00 | grad norm: 0.46 | max abs grad: 0.04 | loss: 1.09 | perp.:  2.98\n",
      "------------------------------------------------------------------------------------------------------\n",
      "Elapsed time: 26.82 sec | max abs wt:  6.77 | valid_loss:  1.81 | valid_perplexity:  6.09\n",
      "======================================================================================================\n",
      "\n",
      "\n",
      "Epoch  25/ 50) lr = 0.004419\n",
      " b  10/ 53 >>  557.5 ms/b | lr: 0.00 | grad norm: 0.36 | max abs grad: 0.03 | loss: 1.14 | perp.:  3.12\n",
      " b  20/ 53 >>  533.6 ms/b | lr: 0.00 | grad norm: 0.36 | max abs grad: 0.04 | loss: 1.09 | perp.:  2.98\n",
      " b  30/ 53 >>  577.5 ms/b | lr: 0.00 | grad norm: 0.39 | max abs grad: 0.03 | loss: 1.06 | perp.:  2.90\n",
      " b  40/ 53 >>  523.8 ms/b | lr: 0.00 | grad norm: 0.37 | max abs grad: 0.03 | loss: 1.05 | perp.:  2.85\n",
      " b  50/ 53 >>  534.6 ms/b | lr: 0.00 | grad norm: 0.34 | max abs grad: 0.04 | loss: 1.06 | perp.:  2.87\n",
      "------------------------------------------------------------------------------------------------------\n",
      "Elapsed time: 27.68 sec | max abs wt:  6.86 | valid_loss:  1.82 | valid_perplexity:  6.18\n",
      "======================================================================================================\n",
      "\n",
      "\n",
      "Epoch  26/ 50) lr = 0.004334\n",
      " b  10/ 52 >>  601.9 ms/b | lr: 0.00 | grad norm: 0.37 | max abs grad: 0.05 | loss: 1.15 | perp.:  3.15\n",
      " b  20/ 52 >>  516.0 ms/b | lr: 0.00 | grad norm: 0.35 | max abs grad: 0.03 | loss: 1.11 | perp.:  3.03\n",
      " b  30/ 52 >>  510.8 ms/b | lr: 0.00 | grad norm: 0.44 | max abs grad: 0.04 | loss: 1.08 | perp.:  2.94\n",
      " b  40/ 52 >>  507.5 ms/b | lr: 0.00 | grad norm: 0.34 | max abs grad: 0.04 | loss: 1.07 | perp.:  2.92\n",
      " b  50/ 52 >>  487.1 ms/b | lr: 0.00 | grad norm: 0.38 | max abs grad: 0.04 | loss: 1.06 | perp.:  2.89\n",
      "------------------------------------------------------------------------------------------------------\n",
      "Elapsed time: 26.36 sec | max abs wt:  6.96 | valid_loss:  1.76 | valid_perplexity:  5.81\n",
      "======================================================================================================\n",
      "\n",
      "\n",
      "Epoch  27/ 50) lr = 0.004253\n",
      " b  10/ 52 >>  534.5 ms/b | lr: 0.00 | grad norm: 0.30 | max abs grad: 0.02 | loss: 1.10 | perp.:  3.01\n",
      " b  20/ 52 >>  532.6 ms/b | lr: 0.00 | grad norm: 0.40 | max abs grad: 0.04 | loss: 1.08 | perp.:  2.94\n",
      " b  30/ 52 >>  542.5 ms/b | lr: 0.00 | grad norm: 0.32 | max abs grad: 0.03 | loss: 1.04 | perp.:  2.83\n",
      " b  40/ 52 >>  470.1 ms/b | lr: 0.00 | grad norm: 0.33 | max abs grad: 0.04 | loss: 1.03 | perp.:  2.80\n",
      " b  50/ 52 >>  490.8 ms/b | lr: 0.00 | grad norm: 0.33 | max abs grad: 0.03 | loss: 1.05 | perp.:  2.84\n",
      "------------------------------------------------------------------------------------------------------\n",
      "Elapsed time: 25.85 sec | max abs wt:  7.08 | valid_loss:  1.68 | valid_perplexity:  5.35\n",
      "======================================================================================================\n",
      "\n",
      "\n",
      "Epoch  28/ 50) lr = 0.004176\n",
      " b  10/ 52 >>  547.1 ms/b | lr: 0.00 | grad norm: 0.34 | max abs grad: 0.03 | loss: 1.12 | perp.:  3.08\n",
      " b  20/ 52 >>  506.6 ms/b | lr: 0.00 | grad norm: 0.43 | max abs grad: 0.04 | loss: 1.10 | perp.:  3.01\n",
      " b  30/ 52 >>  527.0 ms/b | lr: 0.00 | grad norm: 0.37 | max abs grad: 0.04 | loss: 1.06 | perp.:  2.88\n",
      " b  40/ 52 >>  511.0 ms/b | lr: 0.00 | grad norm: 0.33 | max abs grad: 0.02 | loss: 1.07 | perp.:  2.90\n",
      " b  50/ 52 >>  496.7 ms/b | lr: 0.00 | grad norm: 0.46 | max abs grad: 0.04 | loss: 1.04 | perp.:  2.83\n",
      "------------------------------------------------------------------------------------------------------\n",
      "Elapsed time: 26.03 sec | max abs wt:  7.16 | valid_loss:  1.72 | valid_perplexity:  5.58\n",
      "======================================================================================================\n",
      "\n",
      "\n",
      "Epoch  29/ 50) lr = 0.004103\n",
      " b  10/ 52 >>  560.2 ms/b | lr: 0.00 | grad norm: 0.36 | max abs grad: 0.03 | loss: 1.11 | perp.:  3.04\n",
      " b  20/ 52 >>  504.2 ms/b | lr: 0.00 | grad norm: 0.39 | max abs grad: 0.04 | loss: 1.05 | perp.:  2.87\n",
      " b  30/ 52 >>  514.6 ms/b | lr: 0.00 | grad norm: 0.36 | max abs grad: 0.03 | loss: 1.03 | perp.:  2.80\n",
      " b  40/ 52 >>  495.1 ms/b | lr: 0.00 | grad norm: 0.32 | max abs grad: 0.03 | loss: 1.04 | perp.:  2.84\n",
      " b  50/ 52 >>  488.0 ms/b | lr: 0.00 | grad norm: 0.39 | max abs grad: 0.04 | loss: 1.02 | perp.:  2.77\n",
      "------------------------------------------------------------------------------------------------------\n",
      "Elapsed time: 25.77 sec | max abs wt:  7.23 | valid_loss:  1.67 | valid_perplexity:  5.31\n",
      "======================================================================================================\n",
      "\n",
      "\n",
      "Epoch  30/ 50) lr = 0.004034\n",
      " b  10/ 53 >>  565.6 ms/b | lr: 0.00 | grad norm: 0.38 | max abs grad: 0.04 | loss: 1.09 | perp.:  2.99\n"
     ]
    },
    {
     "name": "stdout",
     "output_type": "stream",
     "text": [
      " b  20/ 53 >>  525.4 ms/b | lr: 0.00 | grad norm: 0.37 | max abs grad: 0.03 | loss: 1.07 | perp.:  2.91\n",
      " b  30/ 53 >>  499.5 ms/b | lr: 0.00 | grad norm: 0.39 | max abs grad: 0.03 | loss: 1.02 | perp.:  2.77\n",
      " b  40/ 53 >>  512.4 ms/b | lr: 0.00 | grad norm: 0.36 | max abs grad: 0.04 | loss: 1.04 | perp.:  2.83\n",
      " b  50/ 53 >>  496.2 ms/b | lr: 0.00 | grad norm: 0.36 | max abs grad: 0.03 | loss: 1.04 | perp.:  2.82\n",
      "------------------------------------------------------------------------------------------------------\n",
      "Elapsed time: 26.58 sec | max abs wt:  7.33 | valid_loss:  1.72 | valid_perplexity:  5.56\n",
      "======================================================================================================\n",
      "\n",
      "\n",
      "Epoch  31/ 50) lr = 0.003969\n",
      " b  10/ 52 >>  542.3 ms/b | lr: 0.00 | grad norm: 0.42 | max abs grad: 0.04 | loss: 1.10 | perp.:  2.99\n",
      " b  20/ 52 >>  507.6 ms/b | lr: 0.00 | grad norm: 0.39 | max abs grad: 0.04 | loss: 1.06 | perp.:  2.89\n",
      " b  30/ 52 >>  537.9 ms/b | lr: 0.00 | grad norm: 0.43 | max abs grad: 0.04 | loss: 1.04 | perp.:  2.84\n",
      " b  40/ 52 >>  522.2 ms/b | lr: 0.00 | grad norm: 0.34 | max abs grad: 0.03 | loss: 1.01 | perp.:  2.75\n",
      " b  50/ 52 >>  498.1 ms/b | lr: 0.00 | grad norm: 0.32 | max abs grad: 0.03 | loss: 1.01 | perp.:  2.75\n",
      "------------------------------------------------------------------------------------------------------\n",
      "Elapsed time: 26.23 sec | max abs wt:  7.41 | valid_loss:  1.63 | valid_perplexity:  5.08\n",
      "======================================================================================================\n",
      "\n",
      "\n",
      "Epoch  32/ 50) lr = 0.003906\n",
      " b  10/ 53 >>  538.7 ms/b | lr: 0.00 | grad norm: 0.38 | max abs grad: 0.03 | loss: 1.06 | perp.:  2.88\n",
      " b  20/ 53 >>  500.1 ms/b | lr: 0.00 | grad norm: 0.34 | max abs grad: 0.03 | loss: 1.04 | perp.:  2.82\n",
      " b  30/ 53 >>  477.5 ms/b | lr: 0.00 | grad norm: 0.36 | max abs grad: 0.03 | loss: 1.00 | perp.:  2.73\n",
      " b  40/ 53 >>  488.6 ms/b | lr: 0.00 | grad norm: 0.36 | max abs grad: 0.03 | loss: 1.02 | perp.:  2.77\n",
      " b  50/ 53 >>  487.4 ms/b | lr: 0.00 | grad norm: 0.37 | max abs grad: 0.03 | loss: 1.00 | perp.:  2.72\n",
      "------------------------------------------------------------------------------------------------------\n",
      "Elapsed time: 25.43 sec | max abs wt:  7.51 | valid_loss:  1.76 | valid_perplexity:  5.82\n",
      "======================================================================================================\n",
      "\n",
      "\n",
      "Epoch  33/ 50) lr = 0.003847\n",
      " b  10/ 53 >>  545.9 ms/b | lr: 0.00 | grad norm: 0.39 | max abs grad: 0.04 | loss: 1.06 | perp.:  2.90\n",
      " b  20/ 53 >>  505.7 ms/b | lr: 0.00 | grad norm: 0.36 | max abs grad: 0.03 | loss: 1.05 | perp.:  2.85\n",
      " b  30/ 53 >>  496.0 ms/b | lr: 0.00 | grad norm: 0.37 | max abs grad: 0.03 | loss: 1.04 | perp.:  2.82\n",
      " b  40/ 53 >>  485.3 ms/b | lr: 0.00 | grad norm: 0.38 | max abs grad: 0.03 | loss: 1.00 | perp.:  2.73\n",
      " b  50/ 53 >>  532.7 ms/b | lr: 0.00 | grad norm: 0.43 | max abs grad: 0.04 | loss: 1.03 | perp.:  2.81\n",
      "------------------------------------------------------------------------------------------------------\n",
      "Elapsed time: 26.11 sec | max abs wt:  7.57 | valid_loss:  1.64 | valid_perplexity:  5.13\n",
      "======================================================================================================\n",
      "\n",
      "\n",
      "Epoch  34/ 50) lr = 0.00379\n",
      " b  10/ 52 >>  556.6 ms/b | lr: 0.00 | grad norm: 0.43 | max abs grad: 0.04 | loss: 1.09 | perp.:  2.98\n",
      " b  20/ 52 >>  519.0 ms/b | lr: 0.00 | grad norm: 0.35 | max abs grad: 0.03 | loss: 1.06 | perp.:  2.89\n",
      " b  30/ 52 >>  508.2 ms/b | lr: 0.00 | grad norm: 0.39 | max abs grad: 0.04 | loss: 1.01 | perp.:  2.74\n",
      " b  40/ 52 >>  503.3 ms/b | lr: 0.00 | grad norm: 0.32 | max abs grad: 0.03 | loss: 1.04 | perp.:  2.83\n",
      " b  50/ 52 >>  471.2 ms/b | lr: 0.00 | grad norm: 0.53 | max abs grad: 0.07 | loss: 1.05 | perp.:  2.85\n",
      "------------------------------------------------------------------------------------------------------\n",
      "Elapsed time: 25.72 sec | max abs wt:  7.64 | valid_loss:  1.62 | valid_perplexity:  5.06\n",
      "======================================================================================================\n",
      "\n",
      "\n",
      "Epoch  35/ 50) lr = 0.003735\n",
      " b  10/ 53 >>  554.5 ms/b | lr: 0.00 | grad norm: 0.36 | max abs grad: 0.03 | loss: 1.06 | perp.:  2.89\n",
      " b  20/ 53 >>  500.5 ms/b | lr: 0.00 | grad norm: 0.42 | max abs grad: 0.04 | loss: 1.05 | perp.:  2.85\n",
      " b  30/ 53 >>  522.8 ms/b | lr: 0.00 | grad norm: 0.51 | max abs grad: 0.05 | loss: 1.02 | perp.:  2.78\n",
      " b  40/ 53 >>  501.3 ms/b | lr: 0.00 | grad norm: 0.36 | max abs grad: 0.03 | loss: 1.04 | perp.:  2.84\n",
      " b  50/ 53 >>  480.2 ms/b | lr: 0.00 | grad norm: 0.43 | max abs grad: 0.05 | loss: 1.01 | perp.:  2.74\n",
      "------------------------------------------------------------------------------------------------------\n",
      "Elapsed time: 26.14 sec | max abs wt:  7.71 | valid_loss:  1.60 | valid_perplexity:  4.95\n",
      "======================================================================================================\n",
      "\n",
      "\n",
      "Epoch  36/ 50) lr = 0.003683\n",
      " b  10/ 53 >>  538.0 ms/b | lr: 0.00 | grad norm: 0.35 | max abs grad: 0.04 | loss: 1.07 | perp.:  2.92\n",
      " b  20/ 53 >>  488.0 ms/b | lr: 0.00 | grad norm: 0.37 | max abs grad: 0.03 | loss: 1.04 | perp.:  2.82\n",
      " b  30/ 53 >>  505.9 ms/b | lr: 0.00 | grad norm: 0.36 | max abs grad: 0.03 | loss: 1.01 | perp.:  2.76\n",
      " b  40/ 53 >>  484.5 ms/b | lr: 0.00 | grad norm: 0.39 | max abs grad: 0.04 | loss: 1.00 | perp.:  2.72\n",
      " b  50/ 53 >>  478.3 ms/b | lr: 0.00 | grad norm: 0.38 | max abs grad: 0.03 | loss: 1.02 | perp.:  2.78\n",
      "------------------------------------------------------------------------------------------------------\n",
      "Elapsed time: 25.57 sec | max abs wt:  7.78 | valid_loss:  1.67 | valid_perplexity:  5.31\n",
      "======================================================================================================\n",
      "\n",
      "\n",
      "Epoch  37/ 50) lr = 0.003633\n",
      " b  10/ 52 >>  555.8 ms/b | lr: 0.00 | grad norm: 0.38 | max abs grad: 0.04 | loss: 1.09 | perp.:  2.99\n",
      " b  20/ 52 >>  505.2 ms/b | lr: 0.00 | grad norm: 0.34 | max abs grad: 0.03 | loss: 1.03 | perp.:  2.81\n",
      " b  30/ 52 >>  494.7 ms/b | lr: 0.00 | grad norm: 0.34 | max abs grad: 0.03 | loss: 1.03 | perp.:  2.79\n",
      " b  40/ 52 >>  498.9 ms/b | lr: 0.00 | grad norm: 0.34 | max abs grad: 0.04 | loss: 1.00 | perp.:  2.73\n",
      " b  50/ 52 >>  500.4 ms/b | lr: 0.00 | grad norm: 0.33 | max abs grad: 0.02 | loss: 1.02 | perp.:  2.77\n",
      "------------------------------------------------------------------------------------------------------\n",
      "Elapsed time: 25.69 sec | max abs wt:  7.85 | valid_loss:  1.62 | valid_perplexity:  5.07\n",
      "======================================================================================================\n",
      "\n",
      "\n",
      "Epoch  38/ 50) lr = 0.003585\n",
      " b  10/ 53 >>  541.7 ms/b | lr: 0.00 | grad norm: 0.36 | max abs grad: 0.04 | loss: 1.05 | perp.:  2.87\n",
      " b  20/ 53 >>  510.3 ms/b | lr: 0.00 | grad norm: 0.40 | max abs grad: 0.03 | loss: 1.02 | perp.:  2.76\n",
      " b  30/ 53 >>  523.3 ms/b | lr: 0.00 | grad norm: 0.36 | max abs grad: 0.04 | loss: 0.99 | perp.:  2.70\n",
      " b  40/ 53 >>  526.7 ms/b | lr: 0.00 | grad norm: 0.41 | max abs grad: 0.03 | loss: 1.01 | perp.:  2.76\n",
      " b  50/ 53 >>  499.1 ms/b | lr: 0.00 | grad norm: 0.37 | max abs grad: 0.03 | loss: 1.02 | perp.:  2.77\n",
      "------------------------------------------------------------------------------------------------------\n",
      "Elapsed time: 26.41 sec | max abs wt:  7.91 | valid_loss:  1.62 | valid_perplexity:  5.04\n",
      "======================================================================================================\n",
      "\n",
      "\n",
      "Epoch  39/ 50) lr = 0.003538\n",
      " b  10/ 53 >>  569.0 ms/b | lr: 0.00 | grad norm: 0.37 | max abs grad: 0.03 | loss: 1.04 | perp.:  2.84\n",
      " b  20/ 53 >>  529.1 ms/b | lr: 0.00 | grad norm: 0.31 | max abs grad: 0.02 | loss: 1.00 | perp.:  2.72\n",
      " b  30/ 53 >>  504.7 ms/b | lr: 0.00 | grad norm: 0.37 | max abs grad: 0.03 | loss: 1.01 | perp.:  2.74\n",
      " b  40/ 53 >>  520.4 ms/b | lr: 0.00 | grad norm: 0.34 | max abs grad: 0.03 | loss: 0.98 | perp.:  2.65\n",
      " b  50/ 53 >>  527.9 ms/b | lr: 0.00 | grad norm: 0.40 | max abs grad: 0.04 | loss: 0.96 | perp.:  2.62\n",
      "------------------------------------------------------------------------------------------------------\n",
      "Elapsed time: 27.01 sec | max abs wt:  7.97 | valid_loss:  1.61 | valid_perplexity:  5.03\n",
      "======================================================================================================\n",
      "\n",
      "\n",
      "Epoch  40/ 50) lr = 0.003494\n"
     ]
    },
    {
     "name": "stdout",
     "output_type": "stream",
     "text": [
      " b  10/ 52 >>  588.6 ms/b | lr: 0.00 | grad norm: 0.38 | max abs grad: 0.03 | loss: 1.06 | perp.:  2.89\n",
      " b  20/ 52 >>  528.8 ms/b | lr: 0.00 | grad norm: 0.33 | max abs grad: 0.03 | loss: 1.02 | perp.:  2.77\n",
      " b  30/ 52 >>  526.1 ms/b | lr: 0.00 | grad norm: 0.38 | max abs grad: 0.04 | loss: 1.00 | perp.:  2.72\n",
      " b  40/ 52 >>  508.0 ms/b | lr: 0.00 | grad norm: 0.39 | max abs grad: 0.03 | loss: 0.99 | perp.:  2.70\n",
      " b  50/ 52 >>  516.5 ms/b | lr: 0.00 | grad norm: 0.55 | max abs grad: 0.07 | loss: 1.03 | perp.:  2.79\n",
      "------------------------------------------------------------------------------------------------------\n",
      "Elapsed time: 26.84 sec | max abs wt:  8.00 | valid_loss:  1.57 | valid_perplexity:  4.80\n",
      "======================================================================================================\n",
      "\n",
      "\n",
      "Epoch  41/ 50) lr = 0.003451\n",
      " b  10/ 52 >>  574.7 ms/b | lr: 0.00 | grad norm: 0.35 | max abs grad: 0.02 | loss: 1.07 | perp.:  2.91\n",
      " b  20/ 52 >>  501.6 ms/b | lr: 0.00 | grad norm: 0.38 | max abs grad: 0.04 | loss: 1.02 | perp.:  2.78\n",
      " b  30/ 52 >>  533.5 ms/b | lr: 0.00 | grad norm: 0.38 | max abs grad: 0.03 | loss: 1.00 | perp.:  2.71\n",
      " b  40/ 52 >>  498.5 ms/b | lr: 0.00 | grad norm: 0.42 | max abs grad: 0.04 | loss: 1.02 | perp.:  2.77\n",
      " b  50/ 52 >>  502.7 ms/b | lr: 0.00 | grad norm: 0.61 | max abs grad: 0.05 | loss: 1.04 | perp.:  2.82\n",
      "------------------------------------------------------------------------------------------------------\n",
      "Elapsed time: 26.25 sec | max abs wt:  8.06 | valid_loss:  1.59 | valid_perplexity:  4.89\n",
      "======================================================================================================\n",
      "\n",
      "\n",
      "Epoch  42/ 50) lr = 0.00341\n",
      " b  10/ 53 >>  546.2 ms/b | lr: 0.00 | grad norm: 0.37 | max abs grad: 0.03 | loss: 1.06 | perp.:  2.88\n",
      " b  20/ 53 >>  477.2 ms/b | lr: 0.00 | grad norm: 0.37 | max abs grad: 0.04 | loss: 1.00 | perp.:  2.73\n",
      " b  30/ 53 >>  508.9 ms/b | lr: 0.00 | grad norm: 0.37 | max abs grad: 0.03 | loss: 0.98 | perp.:  2.65\n",
      " b  40/ 53 >>  503.7 ms/b | lr: 0.00 | grad norm: 0.35 | max abs grad: 0.03 | loss: 0.98 | perp.:  2.66\n",
      " b  50/ 53 >>  520.8 ms/b | lr: 0.00 | grad norm: 0.34 | max abs grad: 0.03 | loss: 0.98 | perp.:  2.67\n",
      "------------------------------------------------------------------------------------------------------\n",
      "Elapsed time: 25.97 sec | max abs wt:  8.10 | valid_loss:  1.60 | valid_perplexity:  4.97\n",
      "======================================================================================================\n",
      "\n",
      "\n",
      "Epoch  43/ 50) lr = 0.00337\n",
      " b  10/ 53 >>  554.7 ms/b | lr: 0.00 | grad norm: 0.35 | max abs grad: 0.04 | loss: 1.06 | perp.:  2.89\n",
      " b  20/ 53 >>  521.0 ms/b | lr: 0.00 | grad norm: 0.39 | max abs grad: 0.04 | loss: 1.05 | perp.:  2.86\n",
      " b  30/ 53 >>  493.7 ms/b | lr: 0.00 | grad norm: 0.34 | max abs grad: 0.03 | loss: 0.99 | perp.:  2.69\n",
      " b  40/ 53 >>  504.7 ms/b | lr: 0.00 | grad norm: 0.38 | max abs grad: 0.05 | loss: 1.00 | perp.:  2.71\n",
      " b  50/ 53 >>  495.2 ms/b | lr: 0.00 | grad norm: 0.35 | max abs grad: 0.03 | loss: 0.99 | perp.:  2.70\n",
      "------------------------------------------------------------------------------------------------------\n",
      "Elapsed time: 26.02 sec | max abs wt:  8.17 | valid_loss:  1.52 | valid_perplexity:  4.58\n",
      "======================================================================================================\n",
      "\n",
      "\n",
      "Epoch  44/ 50) lr = 0.003331\n",
      " b  10/ 53 >>  567.7 ms/b | lr: 0.00 | grad norm: 0.35 | max abs grad: 0.03 | loss: 1.07 | perp.:  2.92\n",
      " b  20/ 53 >>  494.1 ms/b | lr: 0.00 | grad norm: 0.41 | max abs grad: 0.04 | loss: 1.03 | perp.:  2.80\n",
      " b  30/ 53 >>  508.3 ms/b | lr: 0.00 | grad norm: 0.33 | max abs grad: 0.03 | loss: 0.97 | perp.:  2.64\n",
      " b  40/ 53 >>  481.9 ms/b | lr: 0.00 | grad norm: 0.36 | max abs grad: 0.03 | loss: 0.98 | perp.:  2.66\n",
      " b  50/ 53 >>  516.3 ms/b | lr: 0.00 | grad norm: 0.37 | max abs grad: 0.03 | loss: 0.99 | perp.:  2.69\n",
      "------------------------------------------------------------------------------------------------------\n",
      "Elapsed time: 26.04 sec | max abs wt:  8.18 | valid_loss:  1.65 | valid_perplexity:  5.22\n",
      "======================================================================================================\n",
      "\n",
      "\n",
      "Epoch  45/ 50) lr = 0.003294\n",
      " b  10/ 53 >>  567.1 ms/b | lr: 0.00 | grad norm: 0.37 | max abs grad: 0.03 | loss: 1.06 | perp.:  2.89\n",
      " b  20/ 53 >>  492.9 ms/b | lr: 0.00 | grad norm: 0.41 | max abs grad: 0.04 | loss: 1.01 | perp.:  2.74\n",
      " b  30/ 53 >>  486.3 ms/b | lr: 0.00 | grad norm: 0.43 | max abs grad: 0.04 | loss: 1.00 | perp.:  2.72\n",
      " b  40/ 53 >>  474.2 ms/b | lr: 0.00 | grad norm: 0.36 | max abs grad: 0.02 | loss: 0.97 | perp.:  2.65\n",
      " b  50/ 53 >>  529.2 ms/b | lr: 0.00 | grad norm: 0.38 | max abs grad: 0.03 | loss: 0.98 | perp.:  2.66\n",
      "------------------------------------------------------------------------------------------------------\n",
      "Elapsed time: 25.86 sec | max abs wt:  8.22 | valid_loss:  1.57 | valid_perplexity:  4.80\n",
      "======================================================================================================\n",
      "\n",
      "\n",
      "Epoch  46/ 50) lr = 0.003258\n",
      " b  10/ 52 >>  566.1 ms/b | lr: 0.00 | grad norm: 0.32 | max abs grad: 0.03 | loss: 1.05 | perp.:  2.86\n",
      " b  20/ 52 >>  522.6 ms/b | lr: 0.00 | grad norm: 0.39 | max abs grad: 0.04 | loss: 1.00 | perp.:  2.73\n",
      " b  30/ 52 >>  499.9 ms/b | lr: 0.00 | grad norm: 0.42 | max abs grad: 0.04 | loss: 0.99 | perp.:  2.68\n",
      " b  40/ 52 >>  486.7 ms/b | lr: 0.00 | grad norm: 0.43 | max abs grad: 0.04 | loss: 1.02 | perp.:  2.76\n",
      " b  50/ 52 >>  500.4 ms/b | lr: 0.00 | grad norm: 0.35 | max abs grad: 0.03 | loss: 1.01 | perp.:  2.73\n",
      "------------------------------------------------------------------------------------------------------\n",
      "Elapsed time: 25.90 sec | max abs wt:  8.28 | valid_loss:  1.63 | valid_perplexity:  5.11\n",
      "======================================================================================================\n",
      "\n",
      "\n",
      "Epoch  47/ 50) lr = 0.003223\n",
      " b  10/ 52 >>  597.2 ms/b | lr: 0.00 | grad norm: 0.33 | max abs grad: 0.02 | loss: 1.05 | perp.:  2.86\n",
      " b  20/ 52 >>  552.1 ms/b | lr: 0.00 | grad norm: 0.40 | max abs grad: 0.04 | loss: 1.00 | perp.:  2.71\n",
      " b  30/ 52 >>  544.7 ms/b | lr: 0.00 | grad norm: 0.39 | max abs grad: 0.03 | loss: 0.98 | perp.:  2.66\n",
      " b  40/ 52 >>  519.1 ms/b | lr: 0.00 | grad norm: 0.42 | max abs grad: 0.04 | loss: 0.98 | perp.:  2.68\n",
      " b  50/ 52 >>  595.3 ms/b | lr: 0.00 | grad norm: 0.29 | max abs grad: 0.03 | loss: 1.00 | perp.:  2.71\n",
      "------------------------------------------------------------------------------------------------------\n",
      "Elapsed time: 28.23 sec | max abs wt:  8.33 | valid_loss:  1.56 | valid_perplexity:  4.74\n",
      "======================================================================================================\n",
      "\n",
      "\n",
      "Epoch  48/ 50) lr = 0.003189\n",
      " b  10/ 52 >>  640.5 ms/b | lr: 0.00 | grad norm: 0.38 | max abs grad: 0.03 | loss: 1.04 | perp.:  2.84\n",
      " b  20/ 52 >>  550.1 ms/b | lr: 0.00 | grad norm: 0.39 | max abs grad: 0.03 | loss: 0.98 | perp.:  2.67\n",
      " b  30/ 52 >>  535.8 ms/b | lr: 0.00 | grad norm: 0.37 | max abs grad: 0.03 | loss: 1.01 | perp.:  2.74\n",
      " b  40/ 52 >>  500.2 ms/b | lr: 0.00 | grad norm: 0.38 | max abs grad: 0.04 | loss: 1.02 | perp.:  2.77\n",
      " b  50/ 52 >>  490.4 ms/b | lr: 0.00 | grad norm: 0.52 | max abs grad: 0.06 | loss: 1.02 | perp.:  2.76\n",
      "------------------------------------------------------------------------------------------------------\n",
      "Elapsed time: 27.32 sec | max abs wt:  8.36 | valid_loss:  1.59 | valid_perplexity:  4.88\n",
      "======================================================================================================\n",
      "\n",
      "\n",
      "Epoch  49/ 50) lr = 0.003157\n",
      " b  10/ 52 >>  569.8 ms/b | lr: 0.00 | grad norm: 0.38 | max abs grad: 0.03 | loss: 1.04 | perp.:  2.82\n",
      " b  20/ 52 >>  532.5 ms/b | lr: 0.00 | grad norm: 0.42 | max abs grad: 0.04 | loss: 0.98 | perp.:  2.67\n",
      " b  30/ 52 >>  506.7 ms/b | lr: 0.00 | grad norm: 0.38 | max abs grad: 0.03 | loss: 0.98 | perp.:  2.67\n",
      " b  40/ 52 >>  530.1 ms/b | lr: 0.00 | grad norm: 0.42 | max abs grad: 0.06 | loss: 0.97 | perp.:  2.64\n",
      " b  50/ 52 >>  527.4 ms/b | lr: 0.00 | grad norm: 0.36 | max abs grad: 0.03 | loss: 0.97 | perp.:  2.63\n",
      "------------------------------------------------------------------------------------------------------\n",
      "Elapsed time: 26.81 sec | max abs wt:  8.42 | valid_loss:  1.60 | valid_perplexity:  4.94\n",
      "======================================================================================================\n",
      "\n",
      "\n",
      "Epoch  50/ 50) lr = 0.003125\n"
     ]
    },
    {
     "name": "stdout",
     "output_type": "stream",
     "text": [
      " b  10/ 52 >>  547.3 ms/b | lr: 0.00 | grad norm: 0.37 | max abs grad: 0.03 | loss: 1.05 | perp.:  2.86\n",
      " b  20/ 52 >>  512.0 ms/b | lr: 0.00 | grad norm: 0.34 | max abs grad: 0.03 | loss: 1.03 | perp.:  2.79\n",
      " b  30/ 52 >>  523.5 ms/b | lr: 0.00 | grad norm: 0.42 | max abs grad: 0.05 | loss: 0.99 | perp.:  2.68\n",
      " b  40/ 52 >>  491.2 ms/b | lr: 0.00 | grad norm: 0.39 | max abs grad: 0.04 | loss: 0.96 | perp.:  2.61\n",
      " b  50/ 52 >>  472.3 ms/b | lr: 0.00 | grad norm: 0.63 | max abs grad: 0.07 | loss: 1.02 | perp.:  2.77\n",
      "------------------------------------------------------------------------------------------------------\n",
      "Elapsed time: 25.60 sec | max abs wt:  8.49 | valid_loss:  1.54 | valid_perplexity:  4.67\n",
      "======================================================================================================\n",
      "\n",
      "\n"
     ]
    }
   ],
   "source": [
    "WIDTH = 104\n",
    "CAUSES = ['output', 'grad']\n",
    "for epoch in range(epochs):\n",
    "    lr_scheduler.step()\n",
    "    print('Epoch {:3d}/{:3d}) lr = {:.4g}{}'.format(epoch+1, epochs, np.mean(lr_scheduler.get_lr()[0]), ' (warmup)' if epoch < warmup_steps else ''))\n",
    "    start_time = time.time()\n",
    "    stat, data, prev, targets = train()\n",
    "    if stat in list(range(len(CAUSES))):\n",
    "        c = CAUSES[stat]\n",
    "        n = (WIDTH - len(c) - 4) // 2\n",
    "        print('\\n' + (' '*n) + 'NaN ' + c)\n",
    "        break\n",
    "    elapsed = time.time() - start_time\n",
    "    val_loss = evaluate(val_data)\n",
    "    max_param = max([p.data.abs().max() for p in model.parameters() if p.grad is not None])\n",
    "    print('-' * WIDTH)\n",
    "    print('Elapsed time: {:5.2f} sec | max abs wt: {:5.2f} | valid_loss: {:5.2f} | valid_perplexity: {:5.2f}'.format(\n",
    "        elapsed, max_param, val_loss, np.exp(val_loss)\n",
    "    ))\n",
    "    print('=' * WIDTH)\n",
    "    print('\\n')"
   ]
  },
  {
   "cell_type": "code",
   "execution_count": 17,
   "metadata": {},
   "outputs": [
    {
     "name": "stdout",
     "output_type": "stream",
     "text": [
      "test_loss:  1.45 | test_perplexity:     4.25\n"
     ]
    }
   ],
   "source": [
    "test_loss = evaluate(test_data)\n",
    "print('test_loss: {:5.2f} | test_perplexity: {:5.2f}'.format(\n",
    "    test_loss, np.exp(test_loss)\n",
    "))"
   ]
  },
  {
   "cell_type": "markdown",
   "metadata": {},
   "source": [
    "## Evaluation\n",
    "Check out the prediction quality"
   ]
  },
  {
   "cell_type": "code",
   "execution_count": 46,
   "metadata": {},
   "outputs": [],
   "source": [
    "# Get a random sequence from the generated data starting from whatever point\n",
    "data, prev, targets = get_batch(test_data, 120, seq_len)\n",
    "# We'll just look at a few batches\n",
    "nb = 4\n",
    "data = data[:nb].contiguous()\n",
    "prev = prev[:nb].contiguous()\n",
    "targets = targets[:nb].contiguous()"
   ]
  },
  {
   "cell_type": "code",
   "execution_count": 47,
   "metadata": {},
   "outputs": [],
   "source": [
    "# Run the model forward\n",
    "output = model(data, prev)\n",
    "# Convert to probabilities\n",
    "output = output.exp()\n",
    "# Get the max prob for each step\n",
    "output_probs, output_idx = output.max(-1)"
   ]
  },
  {
   "cell_type": "code",
   "execution_count": 48,
   "metadata": {},
   "outputs": [
    {
     "name": "stdout",
     "output_type": "stream",
     "text": [
      "3 incorrectly predicted\n",
      " Variable containing:\n",
      "    6     5     3     3     0     5     4     2     5     4     6\n",
      "    6     5     3     3     0     5     5     2     2     4     4\n",
      "[torch.LongTensor of size 2x11]\n",
      "\n",
      "3 incorrectly predicted\n",
      " Variable containing:\n",
      "    2     6     4     3     1     1     2     5     1     6     4\n",
      "    2     6     4     3     1     1     2     2     1     1     1\n",
      "[torch.LongTensor of size 2x11]\n",
      "\n",
      "4 incorrectly predicted\n",
      " Variable containing:\n",
      "    4     3     1     1     5     4     0     6     1     1     2\n",
      "    3     3     1     1     5     0     0     0     1     1     1\n",
      "[torch.LongTensor of size 2x11]\n",
      "\n",
      "2 incorrectly predicted\n",
      " Variable containing:\n",
      "    0     6     1     2     3     5     5     1     4     0     2\n",
      "    0     6     1     2     3     5     5     1     1     0     0\n",
      "[torch.LongTensor of size 2x11]\n",
      "\n"
     ]
    }
   ],
   "source": [
    "for i in range(nb):\n",
    "    # Print the output with the targets\n",
    "    seqs = torch.cat([targets[i].unsqueeze(0), output_idx[i].unsqueeze(0)], 0)\n",
    "    # Number incorrectly predicted\n",
    "    num_incorrect = (targets[i] != output_idx[i]).sum()\n",
    "    print('%d incorrectly predicted\\n' % num_incorrect[0], seqs)"
   ]
  },
  {
   "cell_type": "markdown",
   "metadata": {},
   "source": [
    "## Visualizations"
   ]
  },
  {
   "cell_type": "code",
   "execution_count": 50,
   "metadata": {
    "scrolled": true
   },
   "outputs": [
    {
     "data": {
      "text/plain": [
       "[(0, TestModel(\n",
       "    (dropout): Dropout(p=0.1)\n",
       "    (src_embedding): Embedding(7, 512)\n",
       "    (tgt_embedding): Embedding(7, 512)\n",
       "    (attn): TransformerAttention(\n",
       "      (dropout): Dropout(p=0.1)\n",
       "      (src_position): PositionalEncoding(\n",
       "        (dropout): Dropout(p=0.1)\n",
       "      )\n",
       "      (tgt_position): PositionalEncoding(\n",
       "        (dropout): Dropout(p=0.1)\n",
       "      )\n",
       "      (enc_norm): LayerNorm(\n",
       "      )\n",
       "      (dec_norm): LayerNorm(\n",
       "      )\n",
       "    )\n",
       "    (projection): Linear(in_features=512, out_features=7)\n",
       "    (log_softmax): LogSoftmax()\n",
       "  )),\n",
       " (1, Dropout(p=0.1)),\n",
       " (2, Embedding(7, 512)),\n",
       " (3, Embedding(7, 512)),\n",
       " (4, TransformerAttention(\n",
       "    (dropout): Dropout(p=0.1)\n",
       "    (src_position): PositionalEncoding(\n",
       "      (dropout): Dropout(p=0.1)\n",
       "    )\n",
       "    (tgt_position): PositionalEncoding(\n",
       "      (dropout): Dropout(p=0.1)\n",
       "    )\n",
       "    (enc_norm): LayerNorm(\n",
       "    )\n",
       "    (dec_norm): LayerNorm(\n",
       "    )\n",
       "  )),\n",
       " (5, Dropout(p=0.1)),\n",
       " (6, PositionalEncoding(\n",
       "    (dropout): Dropout(p=0.1)\n",
       "  )),\n",
       " (7, Dropout(p=0.1)),\n",
       " (8, PositionalEncoding(\n",
       "    (dropout): Dropout(p=0.1)\n",
       "  )),\n",
       " (9, Dropout(p=0.1)),\n",
       " (10, LayerNorm(\n",
       "  )),\n",
       " (11, LayerNorm(\n",
       "  )),\n",
       " (12, Linear(in_features=512, out_features=7)),\n",
       " (13, LogSoftmax())]"
      ]
     },
     "execution_count": 50,
     "metadata": {},
     "output_type": "execute_result"
    }
   ],
   "source": [
    "modules = list(model.modules())\n",
    "list(enumerate(modules))"
   ]
  },
  {
   "cell_type": "code",
   "execution_count": 51,
   "metadata": {},
   "outputs": [],
   "source": [
    "attn_module = modules[4]"
   ]
  },
  {
   "cell_type": "markdown",
   "metadata": {},
   "source": [
    "Visualize attention weights for the first sequence:"
   ]
  },
  {
   "cell_type": "markdown",
   "metadata": {},
   "source": [
    "**Encoder attention weights**"
   ]
  },
  {
   "cell_type": "code",
   "execution_count": 89,
   "metadata": {},
   "outputs": [
    {
     "name": "stdout",
     "output_type": "stream",
     "text": [
      "Encoder layer 1\n"
     ]
    },
    {
     "data": {
      "image/png": "[encoded data removed]",
      "text/plain": [
       "<matplotlib.figure.Figure at 0x267ee369470>"
      ]
     },
     "metadata": {},
     "output_type": "display_data"
    },
    {
     "name": "stdout",
     "output_type": "stream",
     "text": [
      "Encoder layer 2\n"
     ]
    },
    {
     "data": {
      "image/png": "[encoded data removed]",
      "text/plain": [
       "<matplotlib.figure.Figure at 0x267f69a0be0>"
      ]
     },
     "metadata": {},
     "output_type": "display_data"
    },
    {
     "name": "stdout",
     "output_type": "stream",
     "text": [
      "Encoder layer 3\n"
     ]
    },
    {
     "data": {
      "image/png": "[encoded data removed]",
      "text/plain": [
       "<matplotlib.figure.Figure at 0x267ee4a2eb8>"
      ]
     },
     "metadata": {},
     "output_type": "display_data"
    }
   ],
   "source": [
    "for layer in range(N):\n",
    "    cols = 4\n",
    "    rows = n_heads//cols\n",
    "    fig, axs = plt.subplots(rows, cols, figsize = (20, 10))\n",
    "    print(\"\\nEncoder layer %d\" % (layer+1))\n",
    "    for h in range(n_heads):\n",
    "        r = h // cols\n",
    "        c = h % cols\n",
    "        ax = axs[r, c]\n",
    "        ax.imshow(\n",
    "            attn_module.encoder_stack[layer].attn.attn[0, h].data[:seq_len, :seq_len],\n",
    "            aspect = 'auto', cmap = 'jet'\n",
    "        )\n",
    "        # Fix labels\n",
    "        s = list(targets[0].data)\n",
    "        ax.set_xticks(range(seq_len))\n",
    "        ax.set_xticklabels(s if r == rows-1 else [])\n",
    "        ax.set_yticks(range(seq_len))\n",
    "        ax.set_yticklabels(s if c == 0 else [])\n",
    "    plt.show()"
   ]
  },
  {
   "cell_type": "markdown",
   "metadata": {},
   "source": [
    "**Decoder self-attention weights**"
   ]
  },
  {
   "cell_type": "code",
   "execution_count": 91,
   "metadata": {
    "scrolled": false
   },
   "outputs": [
    {
     "name": "stdout",
     "output_type": "stream",
     "text": [
      "Decoder self layer 1\n"
     ]
    },
    {
     "data": {
      "image/png": "[encoded data removed]",
      "text/plain": [
       "<matplotlib.figure.Figure at 0x267f5439240>"
      ]
     },
     "metadata": {},
     "output_type": "display_data"
    },
    {
     "name": "stdout",
     "output_type": "stream",
     "text": [
      "Decoder self layer 2\n"
     ]
    },
    {
     "data": {
      "image/png": "[encoded data removed]",
      "text/plain": [
       "<matplotlib.figure.Figure at 0x267ee4cd780>"
      ]
     },
     "metadata": {},
     "output_type": "display_data"
    },
    {
     "name": "stdout",
     "output_type": "stream",
     "text": [
      "Decoder self layer 3\n"
     ]
    },
    {
     "data": {
      "image/png": "[encoded data removed]",
      "text/plain": [
       "<matplotlib.figure.Figure at 0x267f6146e80>"
      ]
     },
     "metadata": {},
     "output_type": "display_data"
    }
   ],
   "source": [
    "for layer in range(N):\n",
    "    cols = 4\n",
    "    rows = n_heads//cols\n",
    "    # Self-attention weights\n",
    "    fig, axs = plt.subplots(rows, cols, figsize = (20, 10))\n",
    "    print(\"\\nDecoder self layer %d\" % (layer+1))\n",
    "    for h in range(n_heads):\n",
    "        r = h // cols\n",
    "        c = h % cols\n",
    "        ax = axs[r, c]\n",
    "        ax.imshow(\n",
    "            attn_module.decoder_stack[layer].self_attn.attn[0, h].data[:seq_len, :seq_len],\n",
    "            aspect = 'auto', cmap = 'jet'\n",
    "        )\n",
    "        # Fix labels\n",
    "        s = list(targets[0].data)\n",
    "        ax.set_xticks(range(seq_len))\n",
    "        ax.set_xticklabels(s if r == rows-1 else [])\n",
    "        ax.set_yticks(range(seq_len))\n",
    "        ax.set_yticklabels(s if c == 0 else [])\n",
    "    plt.show()"
   ]
  },
  {
   "cell_type": "markdown",
   "metadata": {},
   "source": [
    "**Decoder source-attention weights**"
   ]
  },
  {
   "cell_type": "code",
   "execution_count": 92,
   "metadata": {
    "scrolled": false
   },
   "outputs": [
    {
     "name": "stdout",
     "output_type": "stream",
     "text": [
      "Decoder self layer 1\n"
     ]
    },
    {
     "data": {
      "image/png": "[encoded data removed]",
      "text/plain": [
       "<matplotlib.figure.Figure at 0x267ef885470>"
      ]
     },
     "metadata": {},
     "output_type": "display_data"
    },
    {
     "name": "stdout",
     "output_type": "stream",
     "text": [
      "Decoder self layer 2\n"
     ]
    },
    {
     "data": {
      "image/png": "[encoded data removed]",
      "text/plain": [
       "<matplotlib.figure.Figure at 0x267f718f3c8>"
      ]
     },
     "metadata": {},
     "output_type": "display_data"
    },
    {
     "name": "stdout",
     "output_type": "stream",
     "text": [
      "Decoder self layer 3\n"
     ]
    },
    {
     "data": {
      "image/png": "[encoded data removed]",
      "text/plain": [
       "<matplotlib.figure.Figure at 0x267efc4a898>"
      ]
     },
     "metadata": {},
     "output_type": "display_data"
    }
   ],
   "source": [
    "for layer in range(N):\n",
    "    cols = 4\n",
    "    rows = n_heads//cols\n",
    "    # Self-attention weights\n",
    "    fig, axs = plt.subplots(rows, cols, figsize = (20, 10))\n",
    "    print(\"\\nDecoder self layer %d\" % (layer+1))\n",
    "    for h in range(n_heads):\n",
    "        r = h // cols\n",
    "        c = h % cols\n",
    "        ax = axs[r, c]\n",
    "        ax.imshow(\n",
    "            attn_module.decoder_stack[layer].src_attn.attn[0, h].data[:seq_len, :seq_len],\n",
    "            aspect = 'auto', cmap = 'jet'\n",
    "        )\n",
    "        # Fix labels\n",
    "        s = list(targets[0].data)\n",
    "        ax.set_xticks(range(seq_len))\n",
    "        ax.set_xticklabels(s if r == rows-1 else [])\n",
    "        ax.set_yticks(range(seq_len))\n",
    "        ax.set_yticklabels(s if c == 0 else [])\n",
    "    plt.show()"
   ]
  },
  {
   "cell_type": "code",
   "execution_count": null,
   "metadata": {},
   "outputs": [],
   "source": []
  }
 ],
 "metadata": {
  "kernelspec": {
   "display_name": "Python 3",
   "language": "python",
   "name": "python3"
  },
  "language_info": {
   "codemirror_mode": {
    "name": "ipython",
    "version": 3
   },
   "file_extension": ".py",
   "mimetype": "text/x-python",
   "name": "python",
   "nbconvert_exporter": "python",
   "pygments_lexer": "ipython3",
   "version": "3.6.4"
  }
 },
 "nbformat": 4,
 "nbformat_minor": 2
}
